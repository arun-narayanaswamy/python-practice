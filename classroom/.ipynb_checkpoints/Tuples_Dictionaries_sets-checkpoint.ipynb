{
 "cells": [
  {
   "cell_type": "code",
   "execution_count": 2,
   "metadata": {},
   "outputs": [],
   "source": [
    "#Deep Copy Vs Shallow Copy\n",
    "#https://www.geeksforgeeks.org/copy-python-deep-copy-shallow-copy/"
   ]
  },
  {
   "cell_type": "markdown",
   "metadata": {},
   "source": [
    "# Deep copy vs Shallow Copy"
   ]
  },
  {
   "cell_type": "code",
   "execution_count": 9,
   "metadata": {},
   "outputs": [
    {
     "name": "stdout",
     "output_type": "stream",
     "text": [
      "id/memory block of list1 4438090184\n",
      "id/memory block of list2 4438090184\n",
      "id/memory block of list3 4438090632\n"
     ]
    }
   ],
   "source": [
    "list1=[1,2]\n",
    "print(\"id/memory block of list1 {}\".format(id(list1)))\n",
    "#this is a shallow copy\n",
    "list2=list1\n",
    "list2.append(3)\n",
    "#this is a Deep Copy\n",
    "list3=list(list1)\n",
    "list3.append(9)\n",
    "print(\"id/memory block of list2 {}\".format(id(list2)))\n",
    "print(\"id/memory block of list3 {}\".format(id(list3)))"
   ]
  },
  {
   "cell_type": "code",
   "execution_count": 10,
   "metadata": {},
   "outputs": [
    {
     "name": "stdout",
     "output_type": "stream",
     "text": [
      "id/memory block of list1 4437112008\n"
     ]
    }
   ],
   "source": [
    "list1=[1,2]\n",
    "print(\"id/memory block of list1 {}\".format(id(list1)))"
   ]
  },
  {
   "cell_type": "markdown",
   "metadata": {},
   "source": [
    "# Example of shallow copy"
   ]
  },
  {
   "cell_type": "code",
   "execution_count": 12,
   "metadata": {},
   "outputs": [
    {
     "name": "stdout",
     "output_type": "stream",
     "text": [
      "id/memory block of list2 4437112008\n"
     ]
    }
   ],
   "source": [
    "list2=list1\n",
    "list2.append(3)\n",
    "print(\"id/memory block of list2 {}\".format(id(list2)))"
   ]
  },
  {
   "cell_type": "markdown",
   "metadata": {},
   "source": [
    "# Example of  Deep copy"
   ]
  },
  {
   "cell_type": "code",
   "execution_count": 13,
   "metadata": {},
   "outputs": [
    {
     "name": "stdout",
     "output_type": "stream",
     "text": [
      "id/memory block of list3 4437111944\n"
     ]
    }
   ],
   "source": [
    "list3=list(list1)\n",
    "list3.append(9)\n",
    "print(\"id/memory block of list3 {}\".format(id(list3)))"
   ]
  },
  {
   "cell_type": "code",
   "execution_count": null,
   "metadata": {},
   "outputs": [],
   "source": []
  }
 ],
 "metadata": {
  "kernelspec": {
   "display_name": "Python 3",
   "language": "python",
   "name": "python3"
  },
  "language_info": {
   "codemirror_mode": {
    "name": "ipython",
    "version": 3
   },
   "file_extension": ".py",
   "mimetype": "text/x-python",
   "name": "python",
   "nbconvert_exporter": "python",
   "pygments_lexer": "ipython3",
   "version": "3.6.3"
  }
 },
 "nbformat": 4,
 "nbformat_minor": 2
}
