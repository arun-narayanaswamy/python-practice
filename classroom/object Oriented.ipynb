{
 "cells": [
  {
   "cell_type": "code",
   "execution_count": 10,
   "metadata": {},
   "outputs": [],
   "source": [
    "class galvanize:\n",
    "    def __init__(self,name,location):\n",
    "        self.name=name\n",
    "        self.location=location\n",
    "        self.questionasked=[]\n",
    "    \n",
    "    def my_method(self,question):\n",
    "        self.questionasked.append(question)\n",
    "       \n",
    "    def my_new_meth(self):\n",
    "        return \"Hello\""
   ]
  },
  {
   "cell_type": "code",
   "execution_count": 13,
   "metadata": {},
   "outputs": [
    {
     "ename": "SyntaxError",
     "evalue": "invalid syntax (<ipython-input-13-541e616bab97>, line 5)",
     "output_type": "error",
     "traceback": [
      "\u001b[0;36m  File \u001b[0;32m\"<ipython-input-13-541e616bab97>\"\u001b[0;36m, line \u001b[0;32m5\u001b[0m\n\u001b[0;31m    gal.\u001b[0m\n\u001b[0m        ^\u001b[0m\n\u001b[0;31mSyntaxError\u001b[0m\u001b[0;31m:\u001b[0m invalid syntax\n"
     ]
    }
   ],
   "source": [
    "gal=galvanize(\"arun\",\"phoenix\")\n",
    "gal.my_method(\"how are you?\")\n",
    "print(gal.questionasked)\n",
    "print(gal.my_new_meth())\n",
    "gal."
   ]
  },
  {
   "cell_type": "code",
   "execution_count": 14,
   "metadata": {},
   "outputs": [],
   "source": [
    "class Student:\n",
    "    def __init__(self, name, enrolled, alumni):\n",
    "        self.name = name\n",
    "        self.enrolled = enrolled\n",
    "        self.alumni = alumni\n",
    "\n",
    "        if self.enrolled and self.alumni:\n",
    "            self.continuing_ed = True\n",
    "\n",
    "    def is_continuing_ed(self):\n",
    "        return self.continuing_ed"
   ]
  },
  {
   "cell_type": "code",
   "execution_count": 15,
   "metadata": {},
   "outputs": [
    {
     "data": {
      "text/plain": [
       "True"
      ]
     },
     "execution_count": 15,
     "metadata": {},
     "output_type": "execute_result"
    }
   ],
   "source": [
    "s = Student(\"Chauncey\", True, True)\n",
    "s.is_continuing_ed()"
   ]
  },
  {
   "cell_type": "code",
   "execution_count": 26,
   "metadata": {},
   "outputs": [],
   "source": [
    "class Person:\n",
    "\n",
    "    def __init__(self, name, age=0):\n",
    "        self.name = name\n",
    "        self.age = age\n",
    "        print(self.age)\n",
    "        if self.age >=18:\n",
    "            self.adult = True\n",
    "        else:\n",
    "            self.adult = False\n",
    "\n",
    "    def happy_birthday(self):\n",
    "        self.age += 1\n",
    "        if self.age >=18:\n",
    "            self.adult = True\n",
    "        else:\n",
    "            self.adult = False"
   ]
  },
  {
   "cell_type": "code",
   "execution_count": 27,
   "metadata": {},
   "outputs": [
    {
     "name": "stdout",
     "output_type": "stream",
     "text": [
      "17\n",
      "False\n",
      "True\n"
     ]
    }
   ],
   "source": [
    "p = Person(\"Frank\", 17)\n",
    "print(p.adult)\n",
    "p.happy_birthday()\n",
    "print(p.adult)"
   ]
  }
 ],
 "metadata": {
  "kernelspec": {
   "display_name": "Python 3",
   "language": "python",
   "name": "python3"
  },
  "language_info": {
   "codemirror_mode": {
    "name": "ipython",
    "version": 3
   },
   "file_extension": ".py",
   "mimetype": "text/x-python",
   "name": "python",
   "nbconvert_exporter": "python",
   "pygments_lexer": "ipython3",
   "version": "3.7.1"
  }
 },
 "nbformat": 4,
 "nbformat_minor": 2
}
