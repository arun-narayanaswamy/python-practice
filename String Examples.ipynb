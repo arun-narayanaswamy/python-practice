{
 "cells": [
  {
   "cell_type": "code",
   "execution_count": 5,
   "metadata": {},
   "outputs": [
    {
     "data": {
      "text/plain": [
       "'0/14'"
      ]
     },
     "execution_count": 5,
     "metadata": {},
     "output_type": "execute_result"
    }
   ],
   "source": [
    "def printer_error(s):\n",
    "    # your code\n",
    "    list_accept=['a','b','c','d','e','f','g','h','i','j','k','l','m']\n",
    "    count=0\n",
    "    #new_string=\"\".join(set(s))\n",
    "    #print(new_string)\n",
    "    for i in range(len(s)):\n",
    "        if s[i] in list_accept:\n",
    "            count=count+1\n",
    "    return (str(len(s)-count)+\"/\"+str(len(s)))\n",
    "    \n",
    "    \n",
    "s1=\"aaabbbbhaijjjm\"\n",
    "printer_error(s1)"
   ]
  },
  {
   "cell_type": "code",
   "execution_count": 8,
   "metadata": {},
   "outputs": [
    {
     "data": {
      "text/plain": [
       "'0/14'"
      ]
     },
     "execution_count": 8,
     "metadata": {},
     "output_type": "execute_result"
    }
   ],
   "source": [
    "#use list comprehension and string format functions\n",
    "def printer_error(s):\n",
    "    return \"{}/{}\".format(len([x for x in s if x not in \"abcdefghijklm\"]),len(s))\n",
    "\n",
    "s1=\"aaabbbbhaijjjm\"\n",
    "printer_error(s1)"
   ]
  },
  {
   "cell_type": "code",
   "execution_count": 21,
   "metadata": {},
   "outputs": [
    {
     "data": {
      "text/plain": [
       "'1/14'"
      ]
     },
     "execution_count": 21,
     "metadata": {},
     "output_type": "execute_result"
    }
   ],
   "source": [
    "#translate and maketrans function\n",
    "\n",
    "def printer_error(s):\n",
    "    return \"{}/{}\".format(len(s.translate(s.maketrans(\"\",\"\",\"abcdefghijklm\"))), len(s))\n",
    "\n",
    "s1=\"aaabbbbzaijjjm\"\n",
    "printer_error(s1)"
   ]
  },
  {
   "cell_type": "code",
   "execution_count": 17,
   "metadata": {},
   "outputs": [
    {
     "name": "stdout",
     "output_type": "stream",
     "text": [
      "zy\n"
     ]
    }
   ],
   "source": [
    "s=\"aaabzbbhyjjjm\"\n",
    "s=s.translate(s.maketrans(\"\",\"\",\"abcdefghijklm\"))\n",
    "print(s)"
   ]
  },
  {
   "cell_type": "code",
   "execution_count": 18,
   "metadata": {},
   "outputs": [
    {
     "name": "stdout",
     "output_type": "stream",
     "text": [
      "The string before translating is : weeksyourweeks\n",
      "The string after translating is : geeksforgeeks\n"
     ]
    }
   ],
   "source": [
    "# Python3 code to demostrate  \n",
    "# translations using  \n",
    "# maketrans() and translate() \n",
    "\n",
    "#Syntax : maketrans(str1, str2, str3)\n",
    "\n",
    "#Parameters :\n",
    "#str1 : Specifies the list of characters that need to be replaced.\n",
    "#str2 : Specifies the list of characters with which the characters need to be replaced.\n",
    "#str3 : Specifies the list of characters that needs to be deleted.\n",
    "  \n",
    "# specify to translate chars \n",
    "str1 = \"wy\"\n",
    "  \n",
    "# specify to to replace with \n",
    "str2 = \"gf\"\n",
    "  \n",
    "# delete chars \n",
    "str3 = \"u\"\n",
    "  \n",
    "# target string  \n",
    "trg = \"weeksyourweeks\"\n",
    "  \n",
    "# using maketrans() to  \n",
    "# construct translate \n",
    "# table \n",
    "table = trg.maketrans(str1, str2, str3) \n",
    "  \n",
    "# Printing original string  \n",
    "print (\"The string before translating is : \", end =\"\") \n",
    "print (trg) \n",
    "  \n",
    "# using translate() to make translations. \n",
    "print (\"The string after translating is : \", end =\"\") \n",
    "print (trg.translate(table)) \n"
   ]
  },
  {
   "cell_type": "code",
   "execution_count": 34,
   "metadata": {},
   "outputs": [
    {
     "name": "stdout",
     "output_type": "stream",
     "text": [
      "1 is prime\n"
     ]
    }
   ],
   "source": [
    "#Return all divisors of a given number\n",
    "def divisors(integer):\n",
    "    maxVal=integer\n",
    "    minVal=2\n",
    "    finallist=[]\n",
    "    while(minVal<maxVal):\n",
    "        if maxVal%minVal==0:\n",
    "           finallist.append(minVal)\n",
    "        minVal+=1\n",
    "    if len(finallist)==0:\n",
    "        return str(integer)+\" is prime\"\n",
    "    else:\n",
    "        return ''.join(str(finallist))    \n",
    "\n",
    "print(divisors(1))"
   ]
  },
  {
   "cell_type": "code",
   "execution_count": 36,
   "metadata": {},
   "outputs": [
    {
     "name": "stdout",
     "output_type": "stream",
     "text": [
      "13 is prime\n"
     ]
    }
   ],
   "source": [
    "#Return all divisors of a given number\n",
    "def divisors(integer):\n",
    "    l=[i for i in range(2,integer) if integer%i==0]\n",
    "    if len(l)==0:\n",
    "        return str(integer)+\" is prime\"\n",
    "    return l\n",
    "\n",
    "print(divisors(13))"
   ]
  },
  {
   "cell_type": "code",
   "execution_count": 41,
   "metadata": {},
   "outputs": [
    {
     "name": "stdout",
     "output_type": "stream",
     "text": [
      "5\n"
     ]
    }
   ],
   "source": [
    "s=\"hiIfdi\"\n",
    "print(len(set(s)))"
   ]
  },
  {
   "cell_type": "code",
   "execution_count": 45,
   "metadata": {},
   "outputs": [
    {
     "name": "stdout",
     "output_type": "stream",
     "text": [
      "False\n"
     ]
    }
   ],
   "source": [
    "#Find if a number is a square\n",
    "# ex; square(4) --- true\n",
    "#square(5) ----false\n",
    "import math\n",
    "\n",
    "def is_square(n):\n",
    "    return n>-1 and math.sqrt(n)%1==0\n",
    "\n",
    "print(is_square(5))"
   ]
  },
  {
   "cell_type": "code",
   "execution_count": 58,
   "metadata": {},
   "outputs": [
    {
     "name": "stdout",
     "output_type": "stream",
     "text": [
      "-1\n"
     ]
    }
   ],
   "source": [
    "#Given an array, find the int that appears an odd number of times.\n",
    "def find_it(seq):\n",
    "    empty={}\n",
    "    max_count=0\n",
    "    max_val=0\n",
    "    for i in seq:\n",
    "        if i in empty:\n",
    "            empty[i]=empty[i]+1\n",
    "        else:\n",
    "            empty[i]=0\n",
    "            \n",
    "        if max_count<empty[i]:\n",
    "            max_count=empty[i]\n",
    "            max_val=i\n",
    "    return max_val\n",
    "\n",
    "print(find_it([20,1,-1,2,-2,3,3,5,5,1,2,4,20,4,-1,-2,5,-1,-1]))"
   ]
  },
  {
   "cell_type": "code",
   "execution_count": 53,
   "metadata": {},
   "outputs": [
    {
     "name": "stdout",
     "output_type": "stream",
     "text": [
      "{}\n",
      "5\n"
     ]
    }
   ],
   "source": [
    "#Given an array, find the int that appears an odd number of times.\n",
    "def find_it(seq):\n",
    "    empty={}\n",
    "    max_count=0\n",
    "    max_val=0\n",
    "    for i in seq:\n",
    "        if i in empty:\n",
    "            empty[i]=0\n",
    "            print(empty[i])\n",
    "    print(empty)\n",
    "    return i\n",
    "\n",
    "print(find_it([20,1,-1,2,-2,3,3,5,5,1,2,4,20,4,-1,-2,5]))"
   ]
  },
  {
   "cell_type": "code",
   "execution_count": null,
   "metadata": {},
   "outputs": [],
   "source": []
  }
 ],
 "metadata": {
  "kernelspec": {
   "display_name": "Python 3",
   "language": "python",
   "name": "python3"
  },
  "language_info": {
   "codemirror_mode": {
    "name": "ipython",
    "version": 3
   },
   "file_extension": ".py",
   "mimetype": "text/x-python",
   "name": "python",
   "nbconvert_exporter": "python",
   "pygments_lexer": "ipython3",
   "version": "3.7.1"
  }
 },
 "nbformat": 4,
 "nbformat_minor": 2
}
