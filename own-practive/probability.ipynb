{
 "cells": [
  {
   "cell_type": "code",
   "execution_count": 10,
   "metadata": {},
   "outputs": [],
   "source": [
    "def deMorgans(E, F, S):\n",
    "    '''\n",
    "    Return, as a tuple of the form (Law A, Law B), each of the sets\n",
    "    associated with De Morgan's laws as applied to sets E and F.\n",
    "\n",
    "    Return \"Improper Specification\" if three sets are not supplied\n",
    "    or if the events E and F are not subsets of the sample space S.\n",
    "    \n",
    "    Parameters\n",
    "    ----------\n",
    "    E : {set} First event space\n",
    "    F : {set} Second event space\n",
    "    S : {set} Complete sample space\n",
    "\n",
    "    Returns\n",
    "    -------\n",
    "    tuple({set}, {set}) or {str} \n",
    "\n",
    "    Example:\n",
    "    >>> DeMorgans(set([1,2,3]), set([2,3,4]), set([0,1,2,3,4,5]))\n",
    "    (set([0, 5]), set([0, 1, 4, 5])\n",
    "    '''\n",
    "\n",
    "    if check_specs(E, F, S) == \"fail\":\n",
    "        return \"Improper Specification\"\n",
    "    else:\n",
    "        law_a = lawA(E, F, S)\n",
    "        law_b = lawB(E, F, S)\n",
    "    return (law_a, law_b)\n",
    "\n",
    "\n",
    "def check_specs(E, F, S):\n",
    "    if str(type(E))=='<class \\'set\\'>' and str(type(F))=='<class \\'set\\'>' and str(type(S))=='<class \\'set\\'>' :\n",
    "        if E.issubset(S) and F.issubset(S):\n",
    "            return 'pass'\n",
    "        else:\n",
    "            return 'fail'\n",
    "    else: \n",
    "        return 'fail'\n",
    "\n",
    "\n",
    "def lawA(E, F, S):\n",
    "    temp=E.union(F)\n",
    "    result=S.difference(temp)\n",
    "    return result\n",
    "\n",
    "\n",
    "def lawB(E, F, S):\n",
    "    temp=E.intersection(F)\n",
    "    result=S.difference(temp)\n",
    "    return result"
   ]
  },
  {
   "cell_type": "code",
   "execution_count": 11,
   "metadata": {},
   "outputs": [
    {
     "data": {
      "text/plain": [
       "({0, 5}, {0, 1, 4, 5})"
      ]
     },
     "execution_count": 11,
     "metadata": {},
     "output_type": "execute_result"
    }
   ],
   "source": [
    "deMorgans(set([1,2,3]), set([2,3,4]), set([0,1,2,3,4,5]))"
   ]
  },
  {
   "cell_type": "code",
   "execution_count": null,
   "metadata": {},
   "outputs": [],
   "source": [
    "1 2 3 4"
   ]
  },
  {
   "cell_type": "code",
   "execution_count": 3,
   "metadata": {},
   "outputs": [
    {
     "name": "stdout",
     "output_type": "stream",
     "text": [
      "<class 'set'>\n"
     ]
    }
   ],
   "source": [
    "print(str(type(set([1,2,3]))))"
   ]
  },
  {
   "cell_type": "code",
   "execution_count": 4,
   "metadata": {},
   "outputs": [
    {
     "name": "stdout",
     "output_type": "stream",
     "text": [
      "Hello\n"
     ]
    }
   ],
   "source": [
    "if str(type(set([1,2,3])))=='<class \\'set\\'>':\n",
    "    print(\"Hello\")"
   ]
  },
  {
   "cell_type": "code",
   "execution_count": 6,
   "metadata": {},
   "outputs": [
    {
     "data": {
      "text/plain": [
       "set()"
      ]
     },
     "execution_count": 6,
     "metadata": {},
     "output_type": "execute_result"
    }
   ],
   "source": [
    "(set([1,2,3]).union(set([2,3,4]))).difference(set([0,1,2,3,4,5]))"
   ]
  }
 ],
 "metadata": {
  "kernelspec": {
   "display_name": "Python 3",
   "language": "python",
   "name": "python3"
  },
  "language_info": {
   "codemirror_mode": {
    "name": "ipython",
    "version": 3
   },
   "file_extension": ".py",
   "mimetype": "text/x-python",
   "name": "python",
   "nbconvert_exporter": "python",
   "pygments_lexer": "ipython3",
   "version": "3.7.1"
  }
 },
 "nbformat": 4,
 "nbformat_minor": 2
}
