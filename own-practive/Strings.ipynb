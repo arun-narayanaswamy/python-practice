{
 "cells": [
  {
   "cell_type": "code",
   "execution_count": 1,
   "metadata": {},
   "outputs": [
    {
     "ename": "IndexError",
     "evalue": "string index out of range",
     "output_type": "error",
     "traceback": [
      "\u001b[1;31m---------------------------------------------------------------------------\u001b[0m",
      "\u001b[1;31mIndexError\u001b[0m                                Traceback (most recent call last)",
      "\u001b[1;32m<ipython-input-1-ea81a950786a>\u001b[0m in \u001b[0;36m<module>\u001b[1;34m\u001b[0m\n\u001b[0;32m     12\u001b[0m     \u001b[1;32mreturn\u001b[0m \u001b[0mdna\u001b[0m\u001b[1;33m\u001b[0m\u001b[1;33m\u001b[0m\u001b[0m\n\u001b[0;32m     13\u001b[0m \u001b[1;33m\u001b[0m\u001b[0m\n\u001b[1;32m---> 14\u001b[1;33m \u001b[0mDNA_strand\u001b[0m\u001b[1;33m(\u001b[0m\u001b[1;34m\"AAAA\"\u001b[0m\u001b[1;33m)\u001b[0m\u001b[1;33m\u001b[0m\u001b[1;33m\u001b[0m\u001b[0m\n\u001b[0m",
      "\u001b[1;32m<ipython-input-1-ea81a950786a>\u001b[0m in \u001b[0;36mDNA_strand\u001b[1;34m(dna)\u001b[0m\n\u001b[0;32m      2\u001b[0m     \u001b[1;31m# code here\u001b[0m\u001b[1;33m\u001b[0m\u001b[1;33m\u001b[0m\u001b[1;33m\u001b[0m\u001b[0m\n\u001b[0;32m      3\u001b[0m     \u001b[1;32mfor\u001b[0m \u001b[0mi\u001b[0m \u001b[1;32min\u001b[0m \u001b[0mrange\u001b[0m\u001b[1;33m(\u001b[0m\u001b[0mlen\u001b[0m\u001b[1;33m(\u001b[0m\u001b[0mdna\u001b[0m\u001b[1;33m)\u001b[0m\u001b[1;33m)\u001b[0m\u001b[1;33m:\u001b[0m\u001b[1;33m\u001b[0m\u001b[1;33m\u001b[0m\u001b[0m\n\u001b[1;32m----> 4\u001b[1;33m          \u001b[1;32mif\u001b[0m \u001b[0mdna\u001b[0m\u001b[1;33m[\u001b[0m\u001b[0mi\u001b[0m\u001b[1;33m]\u001b[0m\u001b[1;33m==\u001b[0m\u001b[1;34m\"A\"\u001b[0m\u001b[1;33m:\u001b[0m\u001b[1;33m\u001b[0m\u001b[1;33m\u001b[0m\u001b[0m\n\u001b[0m\u001b[0;32m      5\u001b[0m             \u001b[0mdna\u001b[0m\u001b[1;33m=\u001b[0m\u001b[0mdna\u001b[0m\u001b[1;33m[\u001b[0m\u001b[0mi\u001b[0m\u001b[1;33m]\u001b[0m\u001b[1;33m.\u001b[0m\u001b[0mreplace\u001b[0m\u001b[1;33m(\u001b[0m\u001b[1;34m\"A\"\u001b[0m\u001b[1;33m,\u001b[0m\u001b[1;34m\"T\"\u001b[0m\u001b[1;33m)\u001b[0m\u001b[1;33m\u001b[0m\u001b[1;33m\u001b[0m\u001b[0m\n\u001b[0;32m      6\u001b[0m          \u001b[1;32melif\u001b[0m \u001b[0mdna\u001b[0m\u001b[1;33m[\u001b[0m\u001b[0mi\u001b[0m\u001b[1;33m]\u001b[0m\u001b[1;33m==\u001b[0m\u001b[1;34m\"T\"\u001b[0m\u001b[1;33m:\u001b[0m\u001b[1;33m\u001b[0m\u001b[1;33m\u001b[0m\u001b[0m\n",
      "\u001b[1;31mIndexError\u001b[0m: string index out of range"
     ]
    }
   ],
   "source": [
    "def DNA_strand(dna):\n",
    "    # code here\n",
    "    for i in range(len(dna)):\n",
    "         if dna[i]==\"A\":\n",
    "            dna=dna[i].replace(\"A\",\"T\")\n",
    "         elif dna[i]==\"T\":\n",
    "            dna=dna[i].replace(\"T\",\"A\")\n",
    "         elif dna[i]==\"C\":\n",
    "            dna=dna[i].replace(\"C\",\"G\")\n",
    "         elif dna[i]==\"G\":\n",
    "            dna=dna[i].replace(\"G\",\"C\")\n",
    "    return dna\n",
    "\n",
    "DNA_strand(\"AAAA\")"
   ]
  },
  {
   "cell_type": "code",
   "execution_count": 27,
   "metadata": {},
   "outputs": [
    {
     "name": "stdout",
     "output_type": "stream",
     "text": [
      "a= ATAA\n",
      "T= AAAA\n",
      "a= TTAA\n",
      "a= TTTT\n"
     ]
    }
   ],
   "source": [
    "def DNA_strand(dna):\n",
    "    # code here\n",
    "    for i in range(len(dna)):\n",
    "       #print(dna[i])\n",
    "       if dna[i]==\"A\":\n",
    "         dna=dna.replace(\"A\",\"T\",i)  \n",
    "         print(\"a=\",dna)\n",
    "       elif dna[i]==\"T\":\n",
    "         dna=dna.replace(\"T\",\"A\",i)\n",
    "         print(\"T=\",dna)   \n",
    "       elif dna[i]==\"C\":\n",
    "         dna=dna.replace(\"C\",\"G\",i)\n",
    "         print(\"c=\",dna)                \n",
    "       elif dna[i]==\"G\":\n",
    "         dna=dna.replace(\"G\",\"C\",i) \n",
    "         print(\"G=\",dna)     \n",
    "        \n",
    "    return dna\n",
    "\n",
    "a=DNA_strand(\"ATAA\")\n",
    "#print(a)"
   ]
  },
  {
   "cell_type": "code",
   "execution_count": 37,
   "metadata": {},
   "outputs": [
    {
     "name": "stdout",
     "output_type": "stream",
     "text": [
      "TATT\n"
     ]
    }
   ],
   "source": [
    "#from string import maketrans\n",
    "# https://www.tutorialspoint.com/python3/string_maketrans.htm\n",
    "def DNA_strand(dna):\n",
    "    # code here\n",
    "    return dna.translate(dna.maketrans(\"ATCG\",\"TAGC\"))\n",
    "\n",
    "a=DNA_strand(\"ATAA\")\n",
    "print(a)    "
   ]
  },
  {
   "cell_type": "code",
   "execution_count": 55,
   "metadata": {},
   "outputs": [
    {
     "name": "stdout",
     "output_type": "stream",
     "text": [
      "th3s 3s str3ng 2x1mpl2....w4w!!!\n"
     ]
    }
   ],
   "source": [
    "#!/usr/bin/python3\n",
    "# https://www.tutorialspoint.com/python3/string_maketrans.htm\n",
    "#Under this, every vowel in a string is replaced by its vowel position −\n",
    "intab = \"aeiou\"\n",
    "outtab = \"12345\"\n",
    "trantab = str.maketrans(intab, outtab)\n",
    "\n",
    "str1 = \"this is string example....wow!!!\"\n",
    "print (str1.translate(trantab))"
   ]
  },
  {
   "cell_type": "code",
   "execution_count": 38,
   "metadata": {},
   "outputs": [
    {
     "name": "stdout",
     "output_type": "stream",
     "text": [
      "TATT\n"
     ]
    }
   ],
   "source": [
    "#solving the same above problem using dictionary and list comprehension\n",
    "\n",
    "dict={\"A\":\"T\",\"T\":\"A\",\"C\":\"G\",\"G\":\"C\"}\n",
    "\n",
    "#function .join joins 2 list elements and converts result into a string\n",
    "def DNA_strand(dna):\n",
    "    return \"\".join([dict[x] for x in dna])\n",
    "\n",
    "a=DNA_strand(\"ATAA\")\n",
    "print(a)  "
   ]
  },
  {
   "cell_type": "code",
   "execution_count": 40,
   "metadata": {},
   "outputs": [
    {
     "name": "stdout",
     "output_type": "stream",
     "text": [
      "TATT\n"
     ]
    }
   ],
   "source": [
    "#solving the same above problem using dictionary\n",
    "\n",
    "dict={\"A\":\"T\",\"T\":\"A\",\"C\":\"G\",\"G\":\"C\"}\n",
    "\n",
    "def DNA_strand(dna):\n",
    "    val=\"\".join([dict[x] for x in dna])\n",
    "    return val\n",
    "\n",
    "a=DNA_strand(\"ATAA\")\n",
    "print(a)  "
   ]
  },
  {
   "cell_type": "code",
   "execution_count": 59,
   "metadata": {},
   "outputs": [
    {
     "name": "stdout",
     "output_type": "stream",
     "text": [
      "mjabhi\n"
     ]
    },
    {
     "ename": "AttributeError",
     "evalue": "'str' object has no attribute 'to'",
     "output_type": "error",
     "traceback": [
      "\u001b[1;31m---------------------------------------------------------------------------\u001b[0m",
      "\u001b[1;31mAttributeError\u001b[0m                            Traceback (most recent call last)",
      "\u001b[1;32m<ipython-input-59-563f337dcec4>\u001b[0m in \u001b[0;36m<module>\u001b[1;34m\u001b[0m\n\u001b[0;32m     11\u001b[0m \u001b[1;33m\u001b[0m\u001b[0m\n\u001b[0;32m     12\u001b[0m \u001b[0ms\u001b[0m\u001b[1;33m=\u001b[0m\u001b[1;34m\"aaabbbbhaijjjm\"\u001b[0m\u001b[1;33m\u001b[0m\u001b[1;33m\u001b[0m\u001b[0m\n\u001b[1;32m---> 13\u001b[1;33m \u001b[0mprinter_error\u001b[0m\u001b[1;33m(\u001b[0m\u001b[0ms\u001b[0m\u001b[1;33m)\u001b[0m\u001b[1;33m\u001b[0m\u001b[1;33m\u001b[0m\u001b[0m\n\u001b[0m",
      "\u001b[1;32m<ipython-input-59-563f337dcec4>\u001b[0m in \u001b[0;36mprinter_error\u001b[1;34m(s)\u001b[0m\n\u001b[0;32m      6\u001b[0m     \u001b[0mprint\u001b[0m\u001b[1;33m(\u001b[0m\u001b[0mnew_string\u001b[0m\u001b[1;33m)\u001b[0m\u001b[1;33m\u001b[0m\u001b[1;33m\u001b[0m\u001b[0m\n\u001b[0;32m      7\u001b[0m     \u001b[1;32mfor\u001b[0m \u001b[0mi\u001b[0m \u001b[1;32min\u001b[0m \u001b[0mrange\u001b[0m\u001b[1;33m(\u001b[0m\u001b[0mlen\u001b[0m\u001b[1;33m(\u001b[0m\u001b[0ms\u001b[0m\u001b[1;33m)\u001b[0m\u001b[1;33m)\u001b[0m\u001b[1;33m:\u001b[0m\u001b[1;33m\u001b[0m\u001b[1;33m\u001b[0m\u001b[0m\n\u001b[1;32m----> 8\u001b[1;33m         \u001b[1;32mif\u001b[0m \u001b[0ms\u001b[0m\u001b[1;33m[\u001b[0m\u001b[0mi\u001b[0m\u001b[1;33m]\u001b[0m\u001b[1;33m.\u001b[0m\u001b[0mto\u001b[0m \u001b[1;32min\u001b[0m \u001b[0mlist_accept\u001b[0m\u001b[1;33m:\u001b[0m\u001b[1;33m\u001b[0m\u001b[1;33m\u001b[0m\u001b[0m\n\u001b[0m\u001b[0;32m      9\u001b[0m             \u001b[0mcount\u001b[0m\u001b[1;33m=\u001b[0m\u001b[0mcount\u001b[0m\u001b[1;33m+\u001b[0m\u001b[1;36m1\u001b[0m\u001b[1;33m\u001b[0m\u001b[1;33m\u001b[0m\u001b[0m\n\u001b[0;32m     10\u001b[0m \u001b[1;33m\u001b[0m\u001b[0m\n",
      "\u001b[1;31mAttributeError\u001b[0m: 'str' object has no attribute 'to'"
     ]
    }
   ],
   "source": [
    "def printer_error(s):\n",
    "    # your code\n",
    "    list_accept=['a','b','c','d','e','f','g','h','i','j','k','l','m']\n",
    "    count=0\n",
    "    new_string=\"\".join(set(s))\n",
    "    print(new_string)\n",
    "    for i in range(len(s)):\n",
    "        if s[i].to in list_accept:\n",
    "            count=count+1\n",
    "    \n",
    "    \n",
    "s=\"aaabbbbhaijjjm\"\n",
    "printer_error(s)"
   ]
  },
  {
   "cell_type": "code",
   "execution_count": null,
   "metadata": {},
   "outputs": [],
   "source": []
  },
  {
   "cell_type": "code",
   "execution_count": null,
   "metadata": {},
   "outputs": [],
   "source": []
  }
 ],
 "metadata": {
  "kernelspec": {
   "display_name": "Python 3",
   "language": "python",
   "name": "python3"
  },
  "language_info": {
   "codemirror_mode": {
    "name": "ipython",
    "version": 3
   },
   "file_extension": ".py",
   "mimetype": "text/x-python",
   "name": "python",
   "nbconvert_exporter": "python",
   "pygments_lexer": "ipython3",
   "version": "3.7.1"
  }
 },
 "nbformat": 4,
 "nbformat_minor": 2
}
