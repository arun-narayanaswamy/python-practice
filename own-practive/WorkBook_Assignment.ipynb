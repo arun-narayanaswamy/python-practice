{
 "cells": [
  {
   "cell_type": "code",
   "execution_count": 3,
   "metadata": {},
   "outputs": [
    {
     "name": "stdout",
     "output_type": "stream",
     "text": [
      "Please enter a series of comma-separated strings: one, two, three\n",
      "['one', 'two', 'three']\n",
      "['one', 'two', 'three', 'one']\n"
     ]
    }
   ],
   "source": [
    "s = input('Please enter a series of comma-separated strings: ')\n",
    "# Split on comma+space to create the list\n",
    "l = s.split(', ')\n",
    "print(l)\n",
    "l.append('one')\n",
    "print(l)"
   ]
  },
  {
   "cell_type": "code",
   "execution_count": 56,
   "metadata": {},
   "outputs": [],
   "source": [
    "%config IPCompleter.greedy=True"
   ]
  },
  {
   "cell_type": "code",
   "execution_count": 10,
   "metadata": {},
   "outputs": [
    {
     "name": "stdout",
     "output_type": "stream",
     "text": [
      "Please enter a series of comma-separated strings: one, two, three,\n",
      "three,\n",
      "two\n",
      "one\n",
      "['one', 'two', 'three,', 'three,', 'two', 'one']\n"
     ]
    }
   ],
   "source": [
    "# Input series of comma-separated strings\n",
    "s = input('Please enter a series of comma-separated strings: ')\n",
    "# Split on comma+space to create the list\n",
    "l = s.split(', ')\n",
    "l1=[]\n",
    "for i in reversed(range(len(l))):\n",
    "    l1.append(l[i])\n",
    "l=l+l1\n",
    "print(l)"
   ]
  },
  {
   "cell_type": "code",
   "execution_count": 11,
   "metadata": {},
   "outputs": [
    {
     "name": "stdout",
     "output_type": "stream",
     "text": [
      "Please enter a series of comma-separated strings: one, two, three,\n",
      "['one', 'two', 'three,', 'three,', 'two', 'one', 'two', 'one']\n"
     ]
    }
   ],
   "source": [
    "# Input series of comma-separated strings\n",
    "s = input('Please enter a series of comma-separated strings: ')\n",
    "# Split on comma+space to create the list\n",
    "l = s.split(', ')\n",
    "\n",
    "\n",
    "for i in reversed(range(len(l)-1)):\n",
    "    l1.append(l[i])\n",
    "\n",
    "l=l+l1\n",
    "print(l)\n",
    "# Convert list l into an odd-length palindrome and then print the list"
   ]
  },
  {
   "cell_type": "code",
   "execution_count": 14,
   "metadata": {},
   "outputs": [
    {
     "name": "stdout",
     "output_type": "stream",
     "text": [
      "Please enter a number: 15\n",
      "The number you inputted is not a prime number.\n"
     ]
    }
   ],
   "source": [
    "number = int(input('Please enter a number: '))\n",
    "isPrime=True\n",
    "i=2\n",
    "\n",
    "while i<number:\n",
    "    if number%i==0:\n",
    "       isPrime=False\n",
    "       break\n",
    "    i+=1\n",
    "        \n",
    "# Here are the print statements that you should use.\n",
    "if isPrime==True:\n",
    "    print('The number you inputted is a prime number.')\n",
    "else:\n",
    "    print('The number you inputted is not a prime number.')"
   ]
  },
  {
   "cell_type": "code",
   "execution_count": 25,
   "metadata": {},
   "outputs": [
    {
     "name": "stdout",
     "output_type": "stream",
     "text": [
      "Please enter a number: 22\n",
      "The number you inputted is not a prime number.\n"
     ]
    }
   ],
   "source": [
    "number = int(input('Please enter a number: '))\n",
    "\n",
    "x = 2\n",
    "y = 2\n",
    "\n",
    "while x < number:\n",
    "  while y < number:\n",
    "    if x * y == number:\n",
    "      print('The number you inputted is not a prime number.')\n",
    "      break\n",
    "    if x == number - 1 and y == number - 1:\n",
    "      print(\"The number that you inputted is a prime number\")\n",
    "    y += 1\n",
    "  if x * y == number:\n",
    "    break\n",
    "  x += 1\n",
    "  y = 2"
   ]
  },
  {
   "cell_type": "code",
   "execution_count": 22,
   "metadata": {},
   "outputs": [
    {
     "name": "stdout",
     "output_type": "stream",
     "text": [
      "Please enter a number: 3\n",
      "The number that you inputted is a prime number\n"
     ]
    }
   ],
   "source": []
  },
  {
   "cell_type": "code",
   "execution_count": null,
   "metadata": {},
   "outputs": [],
   "source": []
  },
  {
   "cell_type": "code",
   "execution_count": 28,
   "metadata": {},
   "outputs": [
    {
     "name": "stdout",
     "output_type": "stream",
     "text": [
      "Please enter a number: \n"
     ]
    },
    {
     "ename": "ValueError",
     "evalue": "invalid literal for int() with base 10: ''",
     "output_type": "error",
     "traceback": [
      "\u001b[0;31m---------------------------------------------------------------------------\u001b[0m",
      "\u001b[0;31mValueError\u001b[0m                                Traceback (most recent call last)",
      "\u001b[0;32m<ipython-input-28-c378b72b5272>\u001b[0m in \u001b[0;36m<module>\u001b[0;34m()\u001b[0m\n\u001b[1;32m      1\u001b[0m \u001b[0;31m# Example input() statement\u001b[0m\u001b[0;34m\u001b[0m\u001b[0;34m\u001b[0m\u001b[0m\n\u001b[0;32m----> 2\u001b[0;31m \u001b[0mnumber\u001b[0m \u001b[0;34m=\u001b[0m \u001b[0mint\u001b[0m\u001b[0;34m(\u001b[0m\u001b[0minput\u001b[0m\u001b[0;34m(\u001b[0m\u001b[0;34m'Please enter a number: '\u001b[0m\u001b[0;34m)\u001b[0m\u001b[0;34m)\u001b[0m\u001b[0;34m\u001b[0m\u001b[0m\n\u001b[0m\u001b[1;32m      3\u001b[0m \u001b[0misPrime\u001b[0m\u001b[0;34m=\u001b[0m\u001b[0;32mTrue\u001b[0m\u001b[0;34m\u001b[0m\u001b[0m\n\u001b[1;32m      4\u001b[0m \u001b[0mi\u001b[0m\u001b[0;34m=\u001b[0m\u001b[0;36m2\u001b[0m\u001b[0;34m\u001b[0m\u001b[0m\n\u001b[1;32m      5\u001b[0m \u001b[0;34m\u001b[0m\u001b[0m\n",
      "\u001b[0;31mValueError\u001b[0m: invalid literal for int() with base 10: ''"
     ]
    }
   ],
   "source": [
    "# Example input() statement\n",
    "number = int(input('Please enter a number: '))\n",
    "isPrime=True\n",
    "i=2\n",
    "\n",
    "while i<number:\n",
    "    if number%i==0:\n",
    "       isPrime=False\n",
    "       break\n",
    "    i+=1\n",
    "        \n",
    "# Here are the print statements that you should use.\n",
    "if isPrime==True:\n",
    "    print('The number you inputted is a prime number.')\n",
    "else:\n",
    "    print('The number you inputted is not a prime number.')"
   ]
  },
  {
   "cell_type": "code",
   "execution_count": 30,
   "metadata": {},
   "outputs": [
    {
     "name": "stdout",
     "output_type": "stream",
     "text": [
      "Please enter a number: 3\n",
      "3The number that you inputted is a prime number\n"
     ]
    }
   ],
   "source": [
    "number = int(input('Please enter a number: '))\n",
    "\n",
    "x = 2\n",
    "y = 2\n",
    "\n",
    "while x < number:\n",
    "  while y < number:\n",
    "    if x * y == number:\n",
    "      print('{}The number you inputted is not a prime number.'.format(number))\n",
    "      break\n",
    "    if x == number - 1 and y == number - 1:\n",
    "      print(\"{}The number that you inputted is a prime number\".format(number))\n",
    "    y += 1\n",
    "  if x * y == number:\n",
    "    break\n",
    "  x += 1\n",
    "  y = 2"
   ]
  },
  {
   "cell_type": "code",
   "execution_count": 33,
   "metadata": {},
   "outputs": [
    {
     "name": "stdout",
     "output_type": "stream",
     "text": [
      "Please enter a number1: 7\n",
      "Please enter a number2: 21\n",
      "7\n",
      "7\n"
     ]
    }
   ],
   "source": [
    "# Example input() statement\n",
    "x = int(input('Please enter a number1: '))\n",
    "y = int(input('Please enter a number2: '))\n",
    "gcd=1\n",
    "# Use print() to print the result, like this:\n",
    "if x > y: \n",
    "        small = y \n",
    "else: \n",
    "        small = x \n",
    "i=small\n",
    "print(i)\n",
    "while i>0: \n",
    "    if((x % i == 0) and (y % i == 0)): \n",
    "        gcd = i \n",
    "        break\n",
    "    i-=1\n",
    "              \n",
    "\n",
    "print(gcd)"
   ]
  },
  {
   "cell_type": "code",
   "execution_count": 37,
   "metadata": {},
   "outputs": [
    {
     "name": "stdout",
     "output_type": "stream",
     "text": [
      "Please enter a value for N: 0\n",
      "1\n"
     ]
    }
   ],
   "source": [
    "# Example input() statement\n",
    "number = int(input('Please enter a value for N: '))\n",
    "\n",
    "# Use print() to print the result, like this:\n",
    "i=0\n",
    "sum=0\n",
    "\n",
    "while i<=number:\n",
    "    if i==0:\n",
    "         sum=2*i+1\n",
    "    \n",
    "    else:\n",
    "         sum=2*sum+1\n",
    "    i+=1    \n",
    "    \n",
    "\n",
    "print(sum)"
   ]
  },
  {
   "cell_type": "code",
   "execution_count": 39,
   "metadata": {},
   "outputs": [
    {
     "name": "stdout",
     "output_type": "stream",
     "text": [
      "1 2\n",
      "1 3\n",
      "2 1\n"
     ]
    }
   ],
   "source": [
    "# Use the variables row and col. You will want to initialize them differently.\n",
    "row=1\n",
    "col=2\n",
    "\n",
    "# Use this print statement within your inner loop\n",
    "while row<3:\n",
    "    col=1\n",
    "    while col<3:\n",
    "        if row==1:\n",
    "           print(row, col+1)\n",
    "        if row==2:\n",
    "           print(row, col)\n",
    "           break\n",
    "        col+=1\n",
    "    row+=1\n",
    "\n",
    "    \n"
   ]
  },
  {
   "cell_type": "code",
   "execution_count": 45,
   "metadata": {},
   "outputs": [
    {
     "name": "stdout",
     "output_type": "stream",
     "text": [
      "Please enter a series of comma-separated strings: one, two, three,\n",
      "['one', 'two', 'three,']\n"
     ]
    },
    {
     "ename": "TypeError",
     "evalue": "reversed expected 1 arguments, got 2",
     "output_type": "error",
     "traceback": [
      "\u001b[0;31m---------------------------------------------------------------------------\u001b[0m",
      "\u001b[0;31mTypeError\u001b[0m                                 Traceback (most recent call last)",
      "\u001b[0;32m<ipython-input-45-bf72b4fe7719>\u001b[0m in \u001b[0;36m<module>\u001b[0;34m()\u001b[0m\n\u001b[1;32m      6\u001b[0m \u001b[0mprint\u001b[0m\u001b[0;34m(\u001b[0m\u001b[0ml\u001b[0m\u001b[0;34m)\u001b[0m\u001b[0;34m\u001b[0m\u001b[0m\n\u001b[1;32m      7\u001b[0m \u001b[0;34m\u001b[0m\u001b[0m\n\u001b[0;32m----> 8\u001b[0;31m \u001b[0;32mfor\u001b[0m \u001b[0mi\u001b[0m \u001b[0;32min\u001b[0m \u001b[0mreversed\u001b[0m\u001b[0;34m(\u001b[0m\u001b[0mrange\u001b[0m\u001b[0;34m(\u001b[0m\u001b[0mlen\u001b[0m\u001b[0;34m(\u001b[0m\u001b[0ml\u001b[0m\u001b[0;34m)\u001b[0m\u001b[0;34m-\u001b[0m\u001b[0;36m1\u001b[0m\u001b[0;34m)\u001b[0m\u001b[0;34m,\u001b[0m\u001b[0;36m0\u001b[0m\u001b[0;34m)\u001b[0m\u001b[0;34m:\u001b[0m\u001b[0;34m\u001b[0m\u001b[0m\n\u001b[0m\u001b[1;32m      9\u001b[0m     \u001b[0ml1\u001b[0m\u001b[0;34m.\u001b[0m\u001b[0mappend\u001b[0m\u001b[0;34m(\u001b[0m\u001b[0ml\u001b[0m\u001b[0;34m[\u001b[0m\u001b[0mi\u001b[0m\u001b[0;34m]\u001b[0m\u001b[0;34m)\u001b[0m\u001b[0;34m\u001b[0m\u001b[0m\n\u001b[1;32m     10\u001b[0m \u001b[0mprint\u001b[0m\u001b[0;34m(\u001b[0m\u001b[0ml1\u001b[0m\u001b[0;34m)\u001b[0m\u001b[0;34m\u001b[0m\u001b[0m\n",
      "\u001b[0;31mTypeError\u001b[0m: reversed expected 1 arguments, got 2"
     ]
    }
   ],
   "source": [
    "# Input series of comma-separated strings\n",
    "s = input('Please enter a series of comma-separated strings: ')\n",
    "# Split on comma+space to create the list\n",
    "l = s.split(', ')\n",
    "\n",
    "print(l)\n",
    "\n",
    "for i in reversed(range(len(l)-1),0):\n",
    "    l1.append(l[i])\n",
    "print(l1)\n",
    "l=l+l1\n",
    "print(l)"
   ]
  },
  {
   "cell_type": "code",
   "execution_count": 53,
   "metadata": {},
   "outputs": [
    {
     "name": "stdout",
     "output_type": "stream",
     "text": [
      "Please enter a series of comma-separated strings: one, two, three,\n",
      "['two', 'one']\n",
      "['one', 'two', 'three,', 'two', 'one']\n"
     ]
    }
   ],
   "source": [
    "#Another way to reverse traverse a list\n",
    "# Input series of comma-separated strings\n",
    "s = input('Please enter a series of comma-separated strings: ')\n",
    "# Split on comma+space to create the list\n",
    "l = s.split(', ')\n",
    "l1=[]\n",
    "for i in l[-2::-1]:\n",
    "    l1.append(i)\n",
    "\n",
    "l=l+l1\n",
    "print(l)"
   ]
  },
  {
   "cell_type": "code",
   "execution_count": 69,
   "metadata": {},
   "outputs": [
    {
     "name": "stdout",
     "output_type": "stream",
     "text": [
      "Please enter a series of comma-separated strings: banana, apple, cherry\n",
      "None\n",
      "0 apple\n",
      "1 banana\n",
      "2 cherry\n"
     ]
    }
   ],
   "source": [
    "# Input series of comma-separated strings\n",
    "s = input('Please enter a series of comma-separated strings: ')\n",
    "# Split on comma+space to create the list\n",
    "l = s.split(', ')\n",
    "\n",
    "\n",
    "for i,x in enumerate(sorted(l)):\n",
    "    print(i,x)\n",
    "#print(l.sort)\n"
   ]
  },
  {
   "cell_type": "markdown",
   "metadata": {},
   "source": [
    "\n",
    "number = int(input('Please enter a number: '))\n",
    "result=1\n",
    "\n",
    "for i in range(2,number):\n",
    "    result*=i\n",
    "print(result)"
   ]
  },
  {
   "cell_type": "code",
   "execution_count": 73,
   "metadata": {},
   "outputs": [
    {
     "name": "stdout",
     "output_type": "stream",
     "text": [
      "Please enter a number: 5\n",
      "1\n",
      "2\n",
      "3\n",
      "4\n",
      "5\n",
      "120\n"
     ]
    }
   ],
   "source": [
    "# Example input() statement\n",
    "number = int(input('Please enter a number: '))\n",
    "result=1\n",
    "# Print your result like this:\n",
    "for i in range(1,number+1):\n",
    "    print(i)\n",
    "    result*=i\n",
    "print(result)"
   ]
  },
  {
   "cell_type": "code",
   "execution_count": 80,
   "metadata": {},
   "outputs": [
    {
     "name": "stdout",
     "output_type": "stream",
     "text": [
      "Please enter a string: HELLO\n",
      "HLL\n"
     ]
    }
   ],
   "source": [
    "s = input('Please enter a string: ')\n",
    "modified_list=[x for x in s if x not in \"aeiouAEIOU\"]\n",
    "modified_string=''.join(modified_list)\n",
    "print(modified_string)"
   ]
  },
  {
   "cell_type": "code",
   "execution_count": 92,
   "metadata": {},
   "outputs": [
    {
     "name": "stdout",
     "output_type": "stream",
     "text": [
      "Please enter a string: hello\n",
      "['h', 'e', 'l', 'l', 'o']\n",
      "value=h,index=0\n",
      "value=e,index=1\n",
      "e\n",
      "value=l,index=2\n",
      "value=l,index=2\n",
      "value=o,index=4\n",
      "hElLo\n"
     ]
    }
   ],
   "source": [
    "s = input('Please enter a string: ')\n",
    "temp_list=list(s)\n",
    "mod_list=[temp_list[x].upper() if x%2!=0 else temp_list[x].lower() for x in range(0,len(temp_list))]\n",
    "mod_string=''.join(mod_list)\n",
    "print(mod_string)"
   ]
  },
  {
   "cell_type": "code",
   "execution_count": 93,
   "metadata": {},
   "outputs": [
    {
     "name": "stdout",
     "output_type": "stream",
     "text": [
      "Enter 7 numbers for list1\n",
      "Please enter a number for list1: 1\n",
      "Please enter a number for list1: 2\n",
      "Please enter a number for list1: 3\n",
      "Please enter a number for list1: 4\n",
      "Please enter a number for list1: 5\n",
      "Please enter a number for list1: 6\n",
      "Please enter a number for list1: 7\n",
      "Enter 7 numbers for list2\n",
      "Please enter a number for list2: 2\n",
      "Please enter a number for list2: 8\n",
      "Please enter a number for list2: 9\n",
      "Please enter a number for list2: 10\n",
      "Please enter a number for list2: 11\n",
      "Please enter a number for list2: 12\n",
      "Please enter a number for list2: 1\n",
      "[1, 2]\n"
     ]
    }
   ],
   "source": [
    "l1 = []\n",
    "l2 = []\n",
    "\n",
    "print(\"Enter 7 numbers for list1\")\n",
    "i=0\n",
    "while i<7:\n",
    "    n1 = int(input('Please enter a number for list1: '))\n",
    "    l1.append(n1)\n",
    "    i+=1\n",
    "\n",
    "print(\"Enter 7 numbers for list2\")\n",
    "i=0\n",
    "while i<7:\n",
    "    n1 = int(input('Please enter a number for list2: '))\n",
    "    l2.append(n1)\n",
    "    i+=1\n",
    "\n",
    "\n",
    "# An empty list\n",
    "common = []\n",
    "\n",
    "# Print the result\n",
    "for item in l1:\n",
    "    if item in l2:\n",
    "        common.append(item)\n",
    "new_list=sorted(common)\n",
    "print(new_list)"
   ]
  },
  {
   "cell_type": "code",
   "execution_count": 94,
   "metadata": {},
   "outputs": [
    {
     "name": "stdout",
     "output_type": "stream",
     "text": [
      "('diamond', 'spade')\n"
     ]
    }
   ],
   "source": [
    "suit_tup = ('diamond', 'club', 'spade', 'heart')\n",
    "print(suit_tup[::2])"
   ]
  },
  {
   "cell_type": "code",
   "execution_count": 97,
   "metadata": {},
   "outputs": [],
   "source": [
    "my_dct = {'Texas': 'Austin', 'Indiana': 'Indianapolis', 'Illinois': 'Chicago',\n",
    "          'New York': 'Albany', 'Iowa': 'Des Moines',\n",
    "          'California': 'Sacramento', 'Utah': 'Salt Lake City',\n",
    "          'Ohio': 'Columbus'}\n",
    "          \n",
    "for state in my_dct:\n",
    "    if my_dct[state].startswith('s'):\n",
    "        print(my_dct[state])"
   ]
  },
  {
   "cell_type": "code",
   "execution_count": 104,
   "metadata": {},
   "outputs": [
    {
     "name": "stdout",
     "output_type": "stream",
     "text": [
      "Sacramento\n",
      "Salt Lake City\n"
     ]
    }
   ],
   "source": [
    "my_dct = {'Texas': 'Austin', 'Indiana': 'Indianapolis', 'Illinois': 'Chicago',\n",
    "          'New York': 'Albany', 'Iowa': 'Des Moines',\n",
    "          'California': 'Sacramento', 'Utah': 'Salt Lake City',\n",
    "          'Ohio': 'Columbus'}\n",
    "          \n",
    "for state in my_dct:\n",
    "    #print(my_dct[state])\n",
    "    if my_dct[state].startswith('S'):\n",
    "        print(my_dct[state])"
   ]
  },
  {
   "cell_type": "code",
   "execution_count": 106,
   "metadata": {},
   "outputs": [
    {
     "name": "stdout",
     "output_type": "stream",
     "text": [
      "Enter words to transform to uppercase here. Separate them with spaces:hello how are\n",
      "{'hello': 'HELLO', 'how': 'HOW', 'are': 'ARE'}\n"
     ]
    }
   ],
   "source": [
    "words = input('Enter words to transform to uppercase here. Separate them with spaces:')\n",
    "words_list=words.split()\n",
    "result={word:word.upper() for word in words_list}\n",
    "print(result)"
   ]
  },
  {
   "cell_type": "code",
   "execution_count": 113,
   "metadata": {},
   "outputs": [
    {
     "name": "stdout",
     "output_type": "stream",
     "text": [
      "Enter words to transform to lowercase here. Separate them with spaces:dfhdsfb fdsfhd fhdf\n",
      "{'dfhdsfb': 'dfhdsfb', 'fdsfhd': 'fdsfhd', 'fhdf': 'fhdf'}\n",
      "(('dfhdsfb', 'dfhdsfb'), ('fdsfhd', 'fdsfhd'), ('fhdf', 'fhdf'))\n"
     ]
    }
   ],
   "source": [
    "words = input('Enter words to transform to lowercase here. Separate them with spaces:')\n",
    "words_list=words.split()\n",
    "result={word:word.lower() for word in words_list}\n",
    "result_tup=tuple((k,v) for k,v in result.items())\n",
    "print(result_tup)"
   ]
  },
  {
   "cell_type": "code",
   "execution_count": 17,
   "metadata": {},
   "outputs": [
    {
     "name": "stdout",
     "output_type": "stream",
     "text": [
      "before ('a', 'c')\n",
      "Add b ('a', 'c', 'b')\n"
     ]
    },
    {
     "ename": "TypeError",
     "evalue": "unsupported operand type(s) for -=: 'tuple' and 'tuple'",
     "output_type": "error",
     "traceback": [
      "\u001b[0;31m---------------------------------------------------------------------------\u001b[0m",
      "\u001b[0;31mTypeError\u001b[0m                                 Traceback (most recent call last)",
      "\u001b[0;32m<ipython-input-17-f02cd9c0b2a5>\u001b[0m in \u001b[0;36m<module>\u001b[0;34m()\u001b[0m\n\u001b[1;32m      3\u001b[0m \u001b[0mtup\u001b[0m\u001b[0;34m+=\u001b[0m\u001b[0;34m(\u001b[0m\u001b[0;34m'b'\u001b[0m\u001b[0;34m,\u001b[0m\u001b[0;34m)\u001b[0m\u001b[0;34m\u001b[0m\u001b[0m\n\u001b[1;32m      4\u001b[0m \u001b[0mprint\u001b[0m\u001b[0;34m(\u001b[0m\u001b[0;34m\"Add b {}\"\u001b[0m\u001b[0;34m.\u001b[0m\u001b[0mformat\u001b[0m\u001b[0;34m(\u001b[0m\u001b[0mtup\u001b[0m\u001b[0;34m)\u001b[0m\u001b[0;34m)\u001b[0m\u001b[0;34m\u001b[0m\u001b[0m\n\u001b[0;32m----> 5\u001b[0;31m \u001b[0mtup\u001b[0m\u001b[0;34m-=\u001b[0m\u001b[0;34m(\u001b[0m\u001b[0;34m'b'\u001b[0m\u001b[0;34m,\u001b[0m\u001b[0;34m)\u001b[0m\u001b[0;34m\u001b[0m\u001b[0m\n\u001b[0m\u001b[1;32m      6\u001b[0m \u001b[0mprint\u001b[0m\u001b[0;34m(\u001b[0m\u001b[0;34m\"delete b {}\"\u001b[0m\u001b[0;34m.\u001b[0m\u001b[0mformat\u001b[0m\u001b[0;34m(\u001b[0m\u001b[0mtup\u001b[0m\u001b[0;34m)\u001b[0m\u001b[0;34m)\u001b[0m\u001b[0;34m\u001b[0m\u001b[0m\n\u001b[1;32m      7\u001b[0m \u001b[0;31m#print(tup)\u001b[0m\u001b[0;34m\u001b[0m\u001b[0;34m\u001b[0m\u001b[0m\n",
      "\u001b[0;31mTypeError\u001b[0m: unsupported operand type(s) for -=: 'tuple' and 'tuple'"
     ]
    }
   ],
   "source": [
    "tup=('a','c')\n",
    "print(\"before {}\".format(tup))\n",
    "tup+=('b',)\n",
    "print(\"Add b {}\".format(tup))\n",
    "tup-=('b',)\n",
    "print(\"delete b {}\".format(tup))\n",
    "#print(tup)\n",
    "#print(t)"
   ]
  },
  {
   "cell_type": "code",
   "execution_count": null,
   "metadata": {},
   "outputs": [],
   "source": [
    "tup= tup + (b.)"
   ]
  },
  {
   "cell_type": "code",
   "execution_count": 11,
   "metadata": {},
   "outputs": [
    {
     "name": "stdout",
     "output_type": "stream",
     "text": [
      "a\n"
     ]
    }
   ],
   "source": [
    "print(\"a\")"
   ]
  },
  {
   "cell_type": "code",
   "execution_count": null,
   "metadata": {},
   "outputs": [],
   "source": []
  }
 ],
 "metadata": {
  "kernelspec": {
   "display_name": "Python 3",
   "language": "python",
   "name": "python3"
  },
  "language_info": {
   "codemirror_mode": {
    "name": "ipython",
    "version": 3
   },
   "file_extension": ".py",
   "mimetype": "text/x-python",
   "name": "python",
   "nbconvert_exporter": "python",
   "pygments_lexer": "ipython3",
   "version": "3.6.3"
  }
 },
 "nbformat": 4,
 "nbformat_minor": 2
}
