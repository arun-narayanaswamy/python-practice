{
 "cells": [
  {
   "cell_type": "code",
   "execution_count": null,
   "metadata": {},
   "outputs": [],
   "source": [
    "list1=[1,2,3,4,5,6]\n",
    "\n",
    "#For Loop\n",
    "for items in list1:\n",
    "    print(items)\n",
    "\n",
    "#list append\n",
    "list1.append(4)\n",
    "\n",
    "#Access List\n",
    "list1[2]=list1[2]+1\n",
    "\n",
    "print(list1[-1])\n",
    "\n",
    "\n",
    "\n",
    "    "
   ]
  },
  {
   "cell_type": "code",
   "execution_count": 7,
   "metadata": {},
   "outputs": [
    {
     "name": "stdout",
     "output_type": "stream",
     "text": [
      "[3, 4]\n",
      "[1, 2]\n",
      "6\n",
      "[2, 3, 4, 5]\n",
      "[3, 4, 5]\n"
     ]
    }
   ],
   "source": [
    "list1=[1,2,3,4,5,6]\n",
    "\n",
    "#list slicing\n",
    "# formula is [starting_element_index+1, endling_element_index]\n",
    "#Assumption is starting_element_index starts with 0\n",
    "print(list1[2:4])\n",
    "print(list1[:2])\n",
    "print(list1[-1])\n",
    "print(list1[1:-1])\n",
    "print(list1[2:5])"
   ]
  },
  {
   "cell_type": "code",
   "execution_count": 9,
   "metadata": {},
   "outputs": [
    {
     "name": "stdout",
     "output_type": "stream",
     "text": [
      "2\n"
     ]
    }
   ],
   "source": [
    "list1=[1,2,3,3,4,5,6]\n",
    "\n",
    "#list index() function -- Index of the first occurence of a number/string\n",
    "\n",
    "print(list1.index(3))"
   ]
  },
  {
   "cell_type": "code",
   "execution_count": 10,
   "metadata": {},
   "outputs": [
    {
     "name": "stdout",
     "output_type": "stream",
     "text": [
      "[1, 2, 3, 9, 4, 5, 6]\n"
     ]
    }
   ],
   "source": [
    "list1=[1,2,3,4,5,6]\n",
    "\n",
    "#insert function insert(index_to_be_inserted, value_to_be_inserted)\n",
    "\n",
    "list1.insert(3,9)\n",
    "print(list1)\n"
   ]
  },
  {
   "cell_type": "code",
   "execution_count": 13,
   "metadata": {},
   "outputs": [
    {
     "name": "stdout",
     "output_type": "stream",
     "text": [
      "['hi', 'hello', 'am']\n"
     ]
    }
   ],
   "source": [
    "list2=[\"hi\",\"am\",\"hello\",\"am\"]\n",
    "#remove- this function removes the first occurence of the element mentioned\n",
    "\n",
    "list2.remove(\"am\")\n",
    "print(list2)"
   ]
  },
  {
   "cell_type": "code",
   "execution_count": 17,
   "metadata": {},
   "outputs": [
    {
     "name": "stdout",
     "output_type": "stream",
     "text": [
      "hello\n",
      "am\n"
     ]
    }
   ],
   "source": [
    "list2=[\"hi\",\"am\",\"hello\",\"am\"]\n",
    "#pop- this function removes the index of the item mentioned\n",
    "\n",
    "ele=list2.pop(2)\n",
    "print(ele)\n",
    "\n",
    "#if there is no argument specified by default removes the last element\n",
    "\n",
    "ele1=list2.pop()\n",
    "print(ele1)"
   ]
  },
  {
   "cell_type": "code",
   "execution_count": 2,
   "metadata": {},
   "outputs": [
    {
     "name": "stdout",
     "output_type": "stream",
     "text": [
      "4\n",
      "5\n",
      "6\n",
      "4\n"
     ]
    }
   ],
   "source": [
    "#using Zip() Function to combine analysis of lists\n",
    "list1=[1,2,3,4]\n",
    "list2=[4,5,6,7]\n",
    "list3=[2,4,67,3]\n",
    "\n",
    "for item1,item2,item3 in zip(list1,list2,list3):\n",
    "    if(item1>item3):\n",
    "       print(item1)\n",
    "    else:\n",
    "       print(item2)"
   ]
  },
  {
   "cell_type": "code",
   "execution_count": 4,
   "metadata": {},
   "outputs": [
    {
     "name": "stdout",
     "output_type": "stream",
     "text": [
      "1\n",
      "2\n",
      "3\n",
      "4\n",
      "9\n"
     ]
    }
   ],
   "source": [
    "#for/else\n",
    "\n",
    "extup=(1,2,3,4)\n",
    "\n",
    "for item in extup:\n",
    "    print(item)\n",
    "else:\n",
    "    print(9)"
   ]
  },
  {
   "cell_type": "code",
   "execution_count": 12,
   "metadata": {},
   "outputs": [
    {
     "name": "stdout",
     "output_type": "stream",
     "text": [
      "[1, 3, 5, 7, 9]\n",
      "[2, 4, 6, 8]\n",
      "[5, 7, 9, 11]\n"
     ]
    }
   ],
   "source": [
    "#list comprehension\n",
    "\n",
    "example=[item for item in range(1,10,2)]\n",
    "print(example)\n",
    "example1=[item for item in range(1,10) if item%2==0]\n",
    "print(example1)\n",
    "example2=[item+3 for item in range(1,10) if item%2==0]\n",
    "print(example2)"
   ]
  },
  {
   "cell_type": "code",
   "execution_count": null,
   "metadata": {},
   "outputs": [],
   "source": []
  }
 ],
 "metadata": {
  "kernelspec": {
   "display_name": "Python 3",
   "language": "python",
   "name": "python3"
  },
  "language_info": {
   "codemirror_mode": {
    "name": "ipython",
    "version": 3
   },
   "file_extension": ".py",
   "mimetype": "text/x-python",
   "name": "python",
   "nbconvert_exporter": "python",
   "pygments_lexer": "ipython3",
   "version": "3.7.1"
  }
 },
 "nbformat": 4,
 "nbformat_minor": 2
}
