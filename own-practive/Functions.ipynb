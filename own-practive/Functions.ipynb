{
 "cells": [
  {
   "cell_type": "code",
   "execution_count": 6,
   "metadata": {},
   "outputs": [
    {
     "name": "stdout",
     "output_type": "stream",
     "text": [
      "1\n",
      "2\n",
      "4\n"
     ]
    }
   ],
   "source": [
    "#Function to Iterate and Print List\n",
    "def printList(list1):\n",
    "  for i in list1:\n",
    "        print(i)\n",
    "\n",
    "list=[1,2,4]\n",
    "printList(list)"
   ]
  },
  {
   "cell_type": "code",
   "execution_count": 20,
   "metadata": {},
   "outputs": [
    {
     "name": "stdout",
     "output_type": "stream",
     "text": [
      "Example 1\n",
      "1\n",
      "2\n",
      "7\n",
      "4\n",
      "5\n",
      "6\n",
      "Example 2\n",
      "7\n",
      "4\n",
      "5\n",
      "6\n",
      "Example 3\n",
      "2\n",
      "4\n",
      "6\n"
     ]
    }
   ],
   "source": [
    "#Range in List used in case of range iterator\n",
    "\n",
    "def printList(list1):\n",
    "  # no starting value is specified so it starts with 0 and end with max_val-1 \n",
    "  print(\"Example 1\")    \n",
    "  for i in range(len(list1)):\n",
    "        print(list1[i])\n",
    "  print(\"Example 2\")      \n",
    " #  starting value is specified so it starts with 2 and end with max_val-1       \n",
    "  for i in range(2,len(list1)):\n",
    "        print(list1[i])\n",
    "  print(\"Example 3\")\n",
    " #Range based on increment\n",
    "  for i in range(1,len(list1),2):\n",
    "        print(list1[i])\n",
    "        \n",
    "list=[1,2,7,4,5,6]\n",
    "printList(list)"
   ]
  },
  {
   "cell_type": "code",
   "execution_count": 23,
   "metadata": {},
   "outputs": [
    {
     "name": "stdout",
     "output_type": "stream",
     "text": [
      "[2, 4, 6, 8, 10, 12, 14]\n"
     ]
    }
   ],
   "source": [
    "#Modify List and return\n",
    "\n",
    "def modify_list(list1):\n",
    "    for i in range(0,len(list1)):\n",
    "        list1[i]=list1[i]*2\n",
    "    return list1\n",
    "\n",
    "list_val=[1,2,3,4,5,6,7]\n",
    "print(modify_list(list_val))"
   ]
  },
  {
   "cell_type": "code",
   "execution_count": 25,
   "metadata": {},
   "outputs": [
    {
     "name": "stdout",
     "output_type": "stream",
     "text": [
      "1 a\n",
      "1 b\n",
      "2 a\n",
      "2 b\n",
      "3 a\n",
      "3 b\n",
      "4 a\n",
      "4 b\n"
     ]
    }
   ],
   "source": [
    "# Pass more than 1 list\n",
    "\n",
    "def list_with_multiple(list1,list2):\n",
    "    for i in range(0,len(list1)):\n",
    "        for j in range(0,len(list2)):\n",
    "            print(list1[i],list2[j])\n",
    "\n",
    "list1=[1,2,3,4]\n",
    "list2=['a','b']\n",
    "list_with_multiple(list1,list2)"
   ]
  },
  {
   "cell_type": "code",
   "execution_count": 29,
   "metadata": {},
   "outputs": [
    {
     "name": "stdout",
     "output_type": "stream",
     "text": [
      "[1, 2, 3, 4, 5, 6, 7, 8]\n"
     ]
    }
   ],
   "source": [
    "#Iterate Through List of Lists\n",
    "\n",
    "def merge_list(list_master):\n",
    "    merge_list=[]\n",
    "    for i in list_master:\n",
    "        for j in range(0,len(i)):\n",
    "            merge_list.append(i[j])\n",
    "    return merge_list        \n",
    "        \n",
    "\n",
    "list_master=[[1,2,3,4],[5,6,7,8]]\n",
    "print(merge_list(list_master))"
   ]
  },
  {
   "cell_type": "code",
   "execution_count": 34,
   "metadata": {},
   "outputs": [
    {
     "name": "stdout",
     "output_type": "stream",
     "text": [
      "[4, 11, 18]\n"
     ]
    }
   ],
   "source": [
    "#program to add 1st element of 3 lists\n",
    "list1=range(3)\n",
    "list2=range(2,5)\n",
    "list3=range(2,13,5)\n",
    "\n",
    "def sum_lists(listn1,listn2,listn3):\n",
    "    new_list=[]\n",
    "    for ele in range(0,len(listn1)):\n",
    "        new_list.append(listn1[ele]+listn2[ele]+listn3[ele])\n",
    "    return new_list\n",
    "\n",
    "print(sum_lists(list1,list2,list3))\n",
    "        "
   ]
  },
  {
   "cell_type": "code",
   "execution_count": 3,
   "metadata": {},
   "outputs": [
    {
     "name": "stdout",
     "output_type": "stream",
     "text": [
      "5\n",
      "6\n",
      "7\n",
      "8\n",
      "9\n"
     ]
    }
   ],
   "source": [
    "#from random import radint\n",
    "\n",
    "counter=5\n",
    "\n",
    "while counter<10:\n",
    "    print(counternter) \n",
    "    counter+=1"
   ]
  },
  {
   "cell_type": "code",
   "execution_count": 5,
   "metadata": {},
   "outputs": [
    {
     "name": "stdout",
     "output_type": "stream",
     "text": [
      "H\n",
      "e\n",
      "l\n",
      "l\n",
      "o\n",
      "H\n",
      "e\n",
      "l\n",
      "l\n",
      "o\n"
     ]
    }
   ],
   "source": [
    "#Iterate Through a string\n",
    "\n",
    "s1=\"Hello\"\n",
    "\n",
    "for char in s1:\n",
    "    print(char)\n",
    "    \n",
    "for i in range(len(s1)):\n",
    "    print(s1[i])"
   ]
  },
  {
   "cell_type": "code",
   "execution_count": 18,
   "metadata": {},
   "outputs": [
    {
     "name": "stdout",
     "output_type": "stream",
     "text": [
      "hzezlzlzozh zye zyl zyl zyo zy"
     ]
    }
   ],
   "source": [
    "#using a comma (\",\") inside print statement\n",
    "\n",
    "s1=\"hello\"\n",
    "\n",
    "for i in s1:\n",
    "    print(i,end=\"z\")\n",
    "\n",
    "for i in s1:\n",
    "    print(i,\"z\",end=\"y\")\n"
   ]
  },
  {
   "cell_type": "code",
   "execution_count": null,
   "metadata": {},
   "outputs": [],
   "source": []
  },
  {
   "cell_type": "code",
   "execution_count": null,
   "metadata": {},
   "outputs": [],
   "source": []
  }
 ],
 "metadata": {
  "kernelspec": {
   "display_name": "Python 3",
   "language": "python",
   "name": "python3"
  },
  "language_info": {
   "codemirror_mode": {
    "name": "ipython",
    "version": 3
   },
   "file_extension": ".py",
   "mimetype": "text/x-python",
   "name": "python",
   "nbconvert_exporter": "python",
   "pygments_lexer": "ipython3",
   "version": "3.7.1"
  }
 },
 "nbformat": 4,
 "nbformat_minor": 2
}
