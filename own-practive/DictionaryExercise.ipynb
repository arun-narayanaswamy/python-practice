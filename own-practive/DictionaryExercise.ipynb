{
 "cells": [
  {
   "cell_type": "code",
   "execution_count": 1,
   "metadata": {},
   "outputs": [
    {
     "name": "stdout",
     "output_type": "stream",
     "text": [
      "Tiger\n"
     ]
    }
   ],
   "source": [
    "Dict={1:\"cat\",2:\"Dog\",3:\"Tiger\"}\n",
    "print(Dict[3])"
   ]
  },
  {
   "cell_type": "code",
   "execution_count": 5,
   "metadata": {},
   "outputs": [
    {
     "name": "stdout",
     "output_type": "stream",
     "text": [
      "{'Hello': 2, 'phoenix': 2}\n"
     ]
    }
   ],
   "source": [
    "#Initializing a new dictionary\n",
    "dict_new={}\n",
    "\n",
    "dict_new[\"Hello\"]=1\n",
    "dict_new[\"phoenix\"]=2\n",
    "\n",
    "dict_new[\"Hello\"]+=dict_new[\"Hello\"]\n",
    "\n",
    "print(dict_new)"
   ]
  },
  {
   "cell_type": "code",
   "execution_count": 9,
   "metadata": {},
   "outputs": [
    {
     "name": "stdout",
     "output_type": "stream",
     "text": [
      "length of a dictionary= 3\n",
      "First value= cat\n"
     ]
    }
   ],
   "source": [
    "#length of a dictionary\n",
    "\n",
    "Dict={1:\"cat\",2:\"Dog\",3:\"Tiger\"}\n",
    "print(\"length of a dictionary=\",len(Dict))\n",
    "print(\"First value=\",Dict[1])"
   ]
  },
  {
   "cell_type": "code",
   "execution_count": 10,
   "metadata": {},
   "outputs": [
    {
     "name": "stdout",
     "output_type": "stream",
     "text": [
      "Before {1: 'cat', 2: 'Dog', 3: 'Tiger'}\n",
      "After {1: 'cat', 3: 'Tiger'}\n"
     ]
    }
   ],
   "source": [
    "#Remove key value pair from a dictionary\n",
    "\n",
    "Dict={1:\"cat\",2:\"Dog\",3:\"Tiger\"}\n",
    "print(\"Before\",Dict)\n",
    "del Dict[2]\n",
    "\n",
    "print(\"After\",Dict)"
   ]
  },
  {
   "cell_type": "code",
   "execution_count": 3,
   "metadata": {},
   "outputs": [
    {
     "name": "stdout",
     "output_type": "stream",
     "text": [
      "{'k1': 'hello', 'k2': 'second', 'k3': 'Third'}\n",
      "value= hello\n",
      "value= second\n",
      "value= Third\n"
     ]
    }
   ],
   "source": [
    "#Traverse a dictionary using for loop\n",
    "\n",
    "dict={\"k1\":\"hello\",\"k2\":\"second\",\"k3\":\"Third\"}\n",
    "\n",
    "print(dict)\n",
    "for key in dict:\n",
    "    print(\"value=\",str(dict[key]))"
   ]
  },
  {
   "cell_type": "code",
   "execution_count": null,
   "metadata": {},
   "outputs": [],
   "source": []
  }
 ],
 "metadata": {
  "kernelspec": {
   "display_name": "Python 3",
   "language": "python",
   "name": "python3"
  },
  "language_info": {
   "codemirror_mode": {
    "name": "ipython",
    "version": 3
   },
   "file_extension": ".py",
   "mimetype": "text/x-python",
   "name": "python",
   "nbconvert_exporter": "python",
   "pygments_lexer": "ipython3",
   "version": "3.7.1"
  }
 },
 "nbformat": 4,
 "nbformat_minor": 2
}
