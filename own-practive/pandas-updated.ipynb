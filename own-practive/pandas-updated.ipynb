{
 "cells": [
  {
   "cell_type": "markdown",
   "metadata": {},
   "source": [
    "# Pandas series "
   ]
  },
  {
   "cell_type": "code",
   "execution_count": 2,
   "metadata": {},
   "outputs": [],
   "source": [
    "import pandas as pd"
   ]
  },
  {
   "cell_type": "code",
   "execution_count": 9,
   "metadata": {},
   "outputs": [],
   "source": [
    "prices=pd.Series([1,2,3,4,5],index=['a','b','c','d','e'])"
   ]
  },
  {
   "cell_type": "code",
   "execution_count": 10,
   "metadata": {},
   "outputs": [
    {
     "data": {
      "text/plain": [
       "a    1\n",
       "b    2\n",
       "c    3\n",
       "d    4\n",
       "e    5\n",
       "dtype: int64"
      ]
     },
     "execution_count": 10,
     "metadata": {},
     "output_type": "execute_result"
    }
   ],
   "source": [
    "prices"
   ]
  },
  {
   "cell_type": "code",
   "execution_count": 13,
   "metadata": {},
   "outputs": [
    {
     "data": {
      "text/plain": [
       "Index(['a', 'b', 'c', 'd', 'e'], dtype='object')"
      ]
     },
     "execution_count": 13,
     "metadata": {},
     "output_type": "execute_result"
    }
   ],
   "source": [
    "#Display list of indexes\n",
    "prices.index"
   ]
  },
  {
   "cell_type": "code",
   "execution_count": 14,
   "metadata": {},
   "outputs": [
    {
     "data": {
      "text/plain": [
       "b    2\n",
       "c    3\n",
       "dtype: int64"
      ]
     },
     "execution_count": 14,
     "metadata": {},
     "output_type": "execute_result"
    }
   ],
   "source": [
    "#.iloc to specify that you are slicing by numeric index\n",
    "prices.iloc[1:3]"
   ]
  },
  {
   "cell_type": "code",
   "execution_count": 17,
   "metadata": {},
   "outputs": [
    {
     "data": {
      "text/plain": [
       "a    1\n",
       "b    2\n",
       "c    3\n",
       "d    4\n",
       "dtype: int64"
      ]
     },
     "execution_count": 17,
     "metadata": {},
     "output_type": "execute_result"
    }
   ],
   "source": [
    "#.loc to specify that you are slicing by index label.\n",
    "prices.loc['a':'d']"
   ]
  },
  {
   "cell_type": "code",
   "execution_count": 22,
   "metadata": {},
   "outputs": [
    {
     "name": "stdout",
     "output_type": "stream",
     "text": [
      "2\n",
      "4\n"
     ]
    }
   ],
   "source": [
    "#numeric index series\n",
    "prices=pd.Series(range(0,10,2),index=range(1,6))\n",
    "print(prices.loc[2])\n",
    "print(prices.iloc[2])"
   ]
  },
  {
   "cell_type": "code",
   "execution_count": 27,
   "metadata": {},
   "outputs": [
    {
     "data": {
      "text/plain": [
       "a     3.0\n",
       "b     2.0\n",
       "c    12.0\n",
       "d     NaN\n",
       "e     NaN\n",
       "k     NaN\n",
       "l     NaN\n",
       "dtype: float64"
      ]
     },
     "execution_count": 27,
     "metadata": {},
     "output_type": "execute_result"
    }
   ],
   "source": [
    "#series operations\n",
    "#multiplication of 2 series\n",
    "prices=pd.Series([1,2,3,4,5],index=['a','b','c','d','e'])\n",
    "inventory=pd.Series(range(1,6),index=['b','l','a','c','k'])\n",
    "prices*inventory"
   ]
  },
  {
   "cell_type": "code",
   "execution_count": 35,
   "metadata": {},
   "outputs": [
    {
     "name": "stdout",
     "output_type": "stream",
     "text": [
      "a    False\n",
      "b    False\n",
      "c     True\n",
      "d     True\n",
      "e     True\n",
      "dtype: bool\n",
      "\n",
      "using loc\n",
      "c    3\n",
      "d    4\n",
      "e    5\n",
      "dtype: int64\n"
     ]
    }
   ],
   "source": [
    "#conditional series checking\n",
    "print(prices>2)\n",
    "print(\"\\nusing loc\")\n",
    "print(prices.loc[prices>2])"
   ]
  },
  {
   "cell_type": "code",
   "execution_count": 41,
   "metadata": {},
   "outputs": [
    {
     "name": "stdout",
     "output_type": "stream",
     "text": [
      "3.0\n",
      "3.0\n",
      "1.5811388300841898\n",
      "count    5.000000\n",
      "mean     3.000000\n",
      "std      1.581139\n",
      "min      1.000000\n",
      "25%      2.000000\n",
      "50%      3.000000\n",
      "75%      4.000000\n",
      "max      5.000000\n",
      "dtype: float64\n"
     ]
    }
   ],
   "source": [
    "#mean, median and other arithematic operations\n",
    "print(prices.mean())\n",
    "print(prices.median())\n",
    "print(prices.std())\n",
    "print(prices.describe())\n"
   ]
  },
  {
   "cell_type": "code",
   "execution_count": 42,
   "metadata": {},
   "outputs": [
    {
     "name": "stdout",
     "output_type": "stream",
     "text": [
      "a    0.9\n",
      "b    1.8\n",
      "c    2.7\n",
      "d    4.0\n",
      "e    5.0\n",
      "dtype: float64\n"
     ]
    }
   ],
   "source": [
    "#.apply method and lambda\n",
    "discount_price=prices.apply(lambda x: .9*x if x<4 else x)\n",
    "print(discount_price)"
   ]
  },
  {
   "cell_type": "code",
   "execution_count": 55,
   "metadata": {},
   "outputs": [
    {
     "name": "stdout",
     "output_type": "stream",
     "text": [
      "banana    50\n",
      "apple     22\n",
      "dtype: int64\n",
      "apple     1\n",
      "pear      1\n",
      "banana    2\n",
      "dtype: int64\n",
      "123.0\n",
      "123.0\n"
     ]
    }
   ],
   "source": [
    "#exercise 1\n",
    "\n",
    "prices = pd.Series([1,1,2,3,5],\n",
    "              index=['apple', 'pear', 'banana', 'mango', 'jackfruit'])\n",
    "\n",
    "inventory = pd.Series([10, 50, 41, 22],\n",
    "              index=['pear', 'banana', 'mango', 'apple'])\n",
    "\n",
    "one_ind = inventory.iloc[1:4:2]\n",
    "two_less = prices.loc[prices<prices.mean()]\n",
    "three_onhand = prices*inventory\n",
    "\n",
    "print(one_ind)\n",
    "print(two_less)\n",
    "print(three_onhand['mango'])\n",
    "\n",
    "print((prices*inventory).loc['mango'])"
   ]
  },
  {
   "cell_type": "markdown",
   "metadata": {},
   "source": [
    "# Pandas Dataframes"
   ]
  },
  {
   "cell_type": "code",
   "execution_count": 74,
   "metadata": {},
   "outputs": [
    {
     "name": "stdout",
     "output_type": "stream",
     "text": [
      "           price  inventory\n",
      "apple          1       22.0\n",
      "banana         2       50.0\n",
      "jackfruit      5        NaN\n",
      "mango          3       41.0\n",
      "pear           1       10.0\n"
     ]
    }
   ],
   "source": [
    "#Express Data frames as a dictionary\n",
    "produce=pd.DataFrame({'price':prices,'inventory':inventory})\n",
    "print(produce)"
   ]
  },
  {
   "cell_type": "code",
   "execution_count": 63,
   "metadata": {},
   "outputs": [
    {
     "data": {
      "text/html": [
       "<div>\n",
       "<style scoped>\n",
       "    .dataframe tbody tr th:only-of-type {\n",
       "        vertical-align: middle;\n",
       "    }\n",
       "\n",
       "    .dataframe tbody tr th {\n",
       "        vertical-align: top;\n",
       "    }\n",
       "\n",
       "    .dataframe thead th {\n",
       "        text-align: right;\n",
       "    }\n",
       "</style>\n",
       "<table border=\"1\" class=\"dataframe\">\n",
       "  <thead>\n",
       "    <tr style=\"text-align: right;\">\n",
       "      <th></th>\n",
       "      <th>priceList</th>\n",
       "    </tr>\n",
       "  </thead>\n",
       "  <tbody>\n",
       "    <tr>\n",
       "      <th>apple</th>\n",
       "      <td>1</td>\n",
       "    </tr>\n",
       "    <tr>\n",
       "      <th>pear</th>\n",
       "      <td>1</td>\n",
       "    </tr>\n",
       "    <tr>\n",
       "      <th>banana</th>\n",
       "      <td>2</td>\n",
       "    </tr>\n",
       "    <tr>\n",
       "      <th>mango</th>\n",
       "      <td>3</td>\n",
       "    </tr>\n",
       "    <tr>\n",
       "      <th>jackfruit</th>\n",
       "      <td>5</td>\n",
       "    </tr>\n",
       "  </tbody>\n",
       "</table>\n",
       "</div>"
      ],
      "text/plain": [
       "           priceList\n",
       "apple              1\n",
       "pear               1\n",
       "banana             2\n",
       "mango              3\n",
       "jackfruit          5"
      ]
     },
     "execution_count": 63,
     "metadata": {},
     "output_type": "execute_result"
    }
   ],
   "source": [
    "newDf=pd.DataFrame({'priceList':prices})\n",
    "newDf"
   ]
  },
  {
   "cell_type": "code",
   "execution_count": 67,
   "metadata": {},
   "outputs": [
    {
     "data": {
      "text/html": [
       "<div>\n",
       "<style scoped>\n",
       "    .dataframe tbody tr th:only-of-type {\n",
       "        vertical-align: middle;\n",
       "    }\n",
       "\n",
       "    .dataframe tbody tr th {\n",
       "        vertical-align: top;\n",
       "    }\n",
       "\n",
       "    .dataframe thead th {\n",
       "        text-align: right;\n",
       "    }\n",
       "</style>\n",
       "<table border=\"1\" class=\"dataframe\">\n",
       "  <thead>\n",
       "    <tr style=\"text-align: right;\">\n",
       "      <th></th>\n",
       "      <th>0</th>\n",
       "      <th>1</th>\n",
       "    </tr>\n",
       "  </thead>\n",
       "  <tbody>\n",
       "    <tr>\n",
       "      <th>0</th>\n",
       "      <td>1</td>\n",
       "      <td>2</td>\n",
       "    </tr>\n",
       "    <tr>\n",
       "      <th>1</th>\n",
       "      <td>3</td>\n",
       "      <td>4</td>\n",
       "    </tr>\n",
       "  </tbody>\n",
       "</table>\n",
       "</div>"
      ],
      "text/plain": [
       "   0  1\n",
       "0  1  2\n",
       "1  3  4"
      ]
     },
     "execution_count": 67,
     "metadata": {},
     "output_type": "execute_result"
    }
   ],
   "source": [
    "import numpy as np\n",
    "\n",
    "numpydf=pd.DataFrame(np.array([1,2,3,4]).reshape(2,2))\n",
    "\n",
    "numpydf"
   ]
  },
  {
   "cell_type": "code",
   "execution_count": 73,
   "metadata": {},
   "outputs": [
    {
     "data": {
      "text/plain": [
       "first     1\n",
       "second    2\n",
       "third     3\n",
       "fourth    4\n",
       "dtype: int64"
      ]
     },
     "execution_count": 73,
     "metadata": {},
     "output_type": "execute_result"
    }
   ],
   "source": [
    "pdnew=pd.Series(np.array([1,2,3,4]),index=['first','second','third','fourth'])\n",
    "pdnew"
   ]
  },
  {
   "cell_type": "code",
   "execution_count": 117,
   "metadata": {},
   "outputs": [
    {
     "name": "stdout",
     "output_type": "stream",
     "text": [
      "apple        1\n",
      "banana       2\n",
      "jackfruit    5\n",
      "mango        3\n",
      "Name: price, dtype: int64\n",
      "banana    100.0\n",
      "Name: Product, dtype: float64\n",
      "        price  inventory  Product\n",
      "banana      2       50.0    100.0\n"
     ]
    }
   ],
   "source": [
    "#Usage of .loc with data frames\n",
    "produce=pd.DataFrame({'price':prices,'inventory':inventory,'Product':three_onhand})\n",
    "#for .loc always use key indexes . It can be int or string\n",
    "print(produce.loc['apple':'mango','price'])\n",
    "\n",
    "#in case of .iloc it should be always integers for index slicing\n",
    "print(produce.iloc[1:4:3,2])\n",
    "\n",
    "#using .iloc to print everything in data frame\n",
    "print(produce.iloc[1:4:3,:])"
   ]
  },
  {
   "cell_type": "code",
   "execution_count": 118,
   "metadata": {},
   "outputs": [
    {
     "data": {
      "text/plain": [
       "apple         22.0\n",
       "banana       100.0\n",
       "jackfruit      NaN\n",
       "mango        123.0\n",
       "pear          10.0\n",
       "Name: Product, dtype: float64"
      ]
     },
     "execution_count": 118,
     "metadata": {},
     "output_type": "execute_result"
    }
   ],
   "source": [
    "#Accessing particular pandas series\n",
    "produce['Product']"
   ]
  },
  {
   "cell_type": "code",
   "execution_count": 121,
   "metadata": {},
   "outputs": [
    {
     "data": {
      "text/html": [
       "<div>\n",
       "<style scoped>\n",
       "    .dataframe tbody tr th:only-of-type {\n",
       "        vertical-align: middle;\n",
       "    }\n",
       "\n",
       "    .dataframe tbody tr th {\n",
       "        vertical-align: top;\n",
       "    }\n",
       "\n",
       "    .dataframe thead th {\n",
       "        text-align: right;\n",
       "    }\n",
       "</style>\n",
       "<table border=\"1\" class=\"dataframe\">\n",
       "  <thead>\n",
       "    <tr style=\"text-align: right;\">\n",
       "      <th></th>\n",
       "      <th>price</th>\n",
       "      <th>inventory</th>\n",
       "      <th>Product</th>\n",
       "      <th>new_inventory_product</th>\n",
       "      <th>inventory_value</th>\n",
       "    </tr>\n",
       "  </thead>\n",
       "  <tbody>\n",
       "    <tr>\n",
       "      <th>apple</th>\n",
       "      <td>1</td>\n",
       "      <td>22.0</td>\n",
       "      <td>22.0</td>\n",
       "      <td>44.0</td>\n",
       "      <td>22.0</td>\n",
       "    </tr>\n",
       "    <tr>\n",
       "      <th>banana</th>\n",
       "      <td>2</td>\n",
       "      <td>50.0</td>\n",
       "      <td>100.0</td>\n",
       "      <td>200.0</td>\n",
       "      <td>100.0</td>\n",
       "    </tr>\n",
       "    <tr>\n",
       "      <th>jackfruit</th>\n",
       "      <td>5</td>\n",
       "      <td>NaN</td>\n",
       "      <td>NaN</td>\n",
       "      <td>NaN</td>\n",
       "      <td>NaN</td>\n",
       "    </tr>\n",
       "    <tr>\n",
       "      <th>mango</th>\n",
       "      <td>3</td>\n",
       "      <td>41.0</td>\n",
       "      <td>123.0</td>\n",
       "      <td>246.0</td>\n",
       "      <td>123.0</td>\n",
       "    </tr>\n",
       "    <tr>\n",
       "      <th>pear</th>\n",
       "      <td>1</td>\n",
       "      <td>10.0</td>\n",
       "      <td>10.0</td>\n",
       "      <td>20.0</td>\n",
       "      <td>10.0</td>\n",
       "    </tr>\n",
       "  </tbody>\n",
       "</table>\n",
       "</div>"
      ],
      "text/plain": [
       "           price  inventory  Product  new_inventory_product  inventory_value\n",
       "apple          1       22.0     22.0                   44.0             22.0\n",
       "banana         2       50.0    100.0                  200.0            100.0\n",
       "jackfruit      5        NaN      NaN                    NaN              NaN\n",
       "mango          3       41.0    123.0                  246.0            123.0\n",
       "pear           1       10.0     10.0                   20.0             10.0"
      ]
     },
     "execution_count": 121,
     "metadata": {},
     "output_type": "execute_result"
    }
   ],
   "source": [
    "#adding new column. ordering of columns are very important\n",
    "\n",
    "produce['new_inventory_product']=  produce['inventory'] * produce['price'] *2\n",
    "produce['inventory_value'] = produce['inventory'] * produce['price']\n",
    "produce"
   ]
  },
  {
   "cell_type": "code",
   "execution_count": 122,
   "metadata": {},
   "outputs": [
    {
     "data": {
      "text/html": [
       "<div>\n",
       "<style scoped>\n",
       "    .dataframe tbody tr th:only-of-type {\n",
       "        vertical-align: middle;\n",
       "    }\n",
       "\n",
       "    .dataframe tbody tr th {\n",
       "        vertical-align: top;\n",
       "    }\n",
       "\n",
       "    .dataframe thead th {\n",
       "        text-align: right;\n",
       "    }\n",
       "</style>\n",
       "<table border=\"1\" class=\"dataframe\">\n",
       "  <thead>\n",
       "    <tr style=\"text-align: right;\">\n",
       "      <th></th>\n",
       "      <th>price</th>\n",
       "      <th>inventory</th>\n",
       "      <th>Product</th>\n",
       "      <th>new_inventory_product</th>\n",
       "    </tr>\n",
       "  </thead>\n",
       "  <tbody>\n",
       "    <tr>\n",
       "      <th>apple</th>\n",
       "      <td>1</td>\n",
       "      <td>22.0</td>\n",
       "      <td>22.0</td>\n",
       "      <td>44.0</td>\n",
       "    </tr>\n",
       "    <tr>\n",
       "      <th>banana</th>\n",
       "      <td>2</td>\n",
       "      <td>50.0</td>\n",
       "      <td>100.0</td>\n",
       "      <td>200.0</td>\n",
       "    </tr>\n",
       "    <tr>\n",
       "      <th>jackfruit</th>\n",
       "      <td>5</td>\n",
       "      <td>NaN</td>\n",
       "      <td>NaN</td>\n",
       "      <td>NaN</td>\n",
       "    </tr>\n",
       "    <tr>\n",
       "      <th>mango</th>\n",
       "      <td>3</td>\n",
       "      <td>41.0</td>\n",
       "      <td>123.0</td>\n",
       "      <td>246.0</td>\n",
       "    </tr>\n",
       "    <tr>\n",
       "      <th>pear</th>\n",
       "      <td>1</td>\n",
       "      <td>10.0</td>\n",
       "      <td>10.0</td>\n",
       "      <td>20.0</td>\n",
       "    </tr>\n",
       "  </tbody>\n",
       "</table>\n",
       "</div>"
      ],
      "text/plain": [
       "           price  inventory  Product  new_inventory_product\n",
       "apple          1       22.0     22.0                   44.0\n",
       "banana         2       50.0    100.0                  200.0\n",
       "jackfruit      5        NaN      NaN                    NaN\n",
       "mango          3       41.0    123.0                  246.0\n",
       "pear           1       10.0     10.0                   20.0"
      ]
     },
     "execution_count": 122,
     "metadata": {},
     "output_type": "execute_result"
    }
   ],
   "source": [
    "#dropping a column\n",
    "#axis is specified becuse we need to identify the column with column\n",
    "produce.drop('inventory_value',axis=1)"
   ]
  },
  {
   "cell_type": "code",
   "execution_count": 123,
   "metadata": {},
   "outputs": [
    {
     "data": {
      "text/plain": [
       "apple        1\n",
       "banana       2\n",
       "jackfruit    5\n",
       "mango        3\n",
       "pear         1\n",
       "Name: price, dtype: int64"
      ]
     },
     "execution_count": 123,
     "metadata": {},
     "output_type": "execute_result"
    }
   ],
   "source": [
    "produce['price']"
   ]
  },
  {
   "cell_type": "code",
   "execution_count": 132,
   "metadata": {},
   "outputs": [
    {
     "name": "stdout",
     "output_type": "stream",
     "text": [
      "           price  inventory\n",
      "apple          1       22.0\n",
      "banana         2       50.0\n",
      "jackfruit      5        NaN\n",
      "mango          3       41.0\n",
      "pear           1       10.0\n",
      "       price  inventory  Product  new_inventory_product\n",
      "apple      1       22.0     22.0                   44.0\n",
      "pear       1       10.0     10.0                   20.0\n",
      "       inventory_value\n",
      "apple             22.0\n",
      "pear              10.0\n"
     ]
    }
   ],
   "source": [
    "#controlling or filtering the contents\n",
    "\n",
    "print(produce.loc[:,produce.max()<51])\n",
    "print(produce.loc[produce['price']==1,'price':'new_inventory_product'])\n",
    "print(produce.loc[produce['price']==1,'inventory_value':])"
   ]
  },
  {
   "cell_type": "code",
   "execution_count": null,
   "metadata": {},
   "outputs": [],
   "source": [
    "# NOTE: In case of .loc always remember \n",
    "#firsr value before comma(,) control the individiual data elements eiether using product['index_value'] or using #'indesx_start' & end\n",
    "#Second value signifies what all columns we need to display"
   ]
  },
  {
   "cell_type": "code",
   "execution_count": 136,
   "metadata": {},
   "outputs": [
    {
     "name": "stdout",
     "output_type": "stream",
     "text": [
      "           price  inventory  Product  new_inventory_product  inventory_value\n",
      "apple          1       22.0     22.0                   44.0             22.0\n",
      "banana         2       50.0    100.0                   23.0            100.0\n",
      "jackfruit      5        NaN      NaN                    NaN              NaN\n",
      "mango          3       41.0    123.0                  246.0            123.0\n",
      "pear           1       10.0     10.0                   20.0             10.0\n",
      "           price  inventory  Product  new_inventory_product  inventory_value\n",
      "apple          1       22.0     22.0                   44.0             22.0\n",
      "banana         2       50.0    100.0                  506.0            100.0\n",
      "jackfruit      5        NaN      NaN                    NaN              NaN\n",
      "mango          3       41.0    123.0                  246.0            123.0\n",
      "pear           1       10.0     10.0                   20.0             10.0\n"
     ]
    }
   ],
   "source": [
    "#Updating the data frame\n",
    "#before Change\n",
    "print(produce)\n",
    "produce.loc[produce['price']==2,'new_inventory_product':'new_inventory_product']*=22\n",
    "print(produce)"
   ]
  },
  {
   "cell_type": "code",
   "execution_count": 147,
   "metadata": {},
   "outputs": [
    {
     "name": "stdout",
     "output_type": "stream",
     "text": [
      "           price  discount_price  inventory\n",
      "jackfruit      5             4.5        NaN\n",
      "pear           1             1.0       10.0\n",
      "           price  discount_price  inventory  clearance_price\n",
      "jackfruit      5             4.5        NaN             2.25\n"
     ]
    }
   ],
   "source": [
    "#Assignment\n",
    "#Select all information from produce for pear and jackfruit\n",
    "#Create a clearance_price column in produce which includes prices reduced from the original prices by 50%.\n",
    "#Then set two_clearance equal the entire row at index 3.\n",
    "\n",
    "import pandas as pd\n",
    "\n",
    "prices = pd.Series([1,1,2,3,5],\n",
    "              index=['apple', 'pear', 'banana', 'mango', 'jackfruit'])\n",
    "\n",
    "inventory = pd.Series([10, 50, 41, 22],\n",
    "              index=['pear', 'banana', 'mango', 'apple'])\n",
    "\n",
    "discount_prices = prices.apply(lambda x: .9*x if x>3 else x)\n",
    "\n",
    "produce = pd.DataFrame({'price':prices,\n",
    "                        'discount_price':discount_prices,\n",
    "                        'inventory':inventory})\n",
    "#print(produce)\n",
    "\n",
    "one_select = produce.loc['jackfruit':'pear':2]\n",
    "\n",
    "print(one_select)\n",
    "\n",
    "produce['clearance_price']= produce.loc[:,'discount_price':'discount_price']*0.5\n",
    "\n",
    "#print(produce)\n",
    "\n",
    "two_clearance = produce.iloc[2:3,:]\n",
    "print(two_clearance)"
   ]
  },
  {
   "cell_type": "markdown",
   "metadata": {},
   "source": [
    "\n",
    "# Merging 2 Panda dataframes"
   ]
  },
  {
   "cell_type": "code",
   "execution_count": 149,
   "metadata": {},
   "outputs": [],
   "source": [
    "df1 = pd.DataFrame({'A': ['A0', 'A1', 'A2', 'A3'],\n",
    "                        'B': ['B0', 'B1', 'B2', 'B3'],\n",
    "                        'C': ['C0', 'C1', 'C2', 'C3'],\n",
    "                        'D': ['D0', 'D1', 'D2', 'D3']},\n",
    "                        index=[0, 1, 2, 3])\n",
    "df2 = pd.DataFrame({'A': ['A4', 'A5', 'A6', 'A7'],\n",
    "                        'B': ['B4', 'B5', 'B6', 'B7'],\n",
    "                        'C': ['C4', 'C5', 'C6', 'C7'],\n",
    "                        'D': ['D4', 'D5', 'D6', 'D7']},\n",
    "                        index=[4, 5, 6, 7])\n",
    "df3 = pd.DataFrame({'A': ['A8', 'A9', 'A10', 'A11'],\n",
    "                        'B': ['B8', 'B9', 'B10', 'B11'],\n",
    "                        'C': ['C8', 'C9', 'C10', 'C11'],\n",
    "                        'D': ['D8', 'D9', 'D10', 'D11']},\n",
    "                        index=[8, 9, 10, 11])\n",
    "\n"
   ]
  },
  {
   "cell_type": "code",
   "execution_count": 158,
   "metadata": {},
   "outputs": [
    {
     "name": "stdout",
     "output_type": "stream",
     "text": [
      "      A    B    C    D\n",
      "0    A0   B0   C0   D0\n",
      "1    A1   B1   C1   D1\n",
      "2    A2   B2   C2   D2\n",
      "3    A3   B3   C3   D3\n",
      "4    A4   B4   C4   D4\n",
      "5    A5   B5   C5   D5\n",
      "6    A6   B6   C6   D6\n",
      "7    A7   B7   C7   D7\n",
      "8    A8   B8   C8   D8\n",
      "9    A9   B9   C9   D9\n",
      "10  A10  B10  C10  D10\n",
      "11  A11  B11  C11  D11\n",
      "      A    B    C    D\n",
      "0    A0   B0   C0   D0\n",
      "1    A1   B1   C1   D1\n",
      "2    A2   B2   C2   D2\n",
      "3    A3   B3   C3   D3\n",
      "4    A4   B4   C4   D4\n",
      "5    A5   B5   C5   D5\n",
      "6    A6   B6   C6   D6\n",
      "7    A7   B7   C7   D7\n",
      "8    A8   B8   C8   D8\n",
      "9    A9   B9   C9   D9\n",
      "10  A10  B10  C10  D10\n",
      "11  A11  B11  C11  D11\n",
      "      A    B    C    D    A    B    C    D    A    B    C    D\n",
      "0    A0   B0   C0   D0  NaN  NaN  NaN  NaN  NaN  NaN  NaN  NaN\n",
      "1    A1   B1   C1   D1  NaN  NaN  NaN  NaN  NaN  NaN  NaN  NaN\n",
      "2    A2   B2   C2   D2  NaN  NaN  NaN  NaN  NaN  NaN  NaN  NaN\n",
      "3    A3   B3   C3   D3  NaN  NaN  NaN  NaN  NaN  NaN  NaN  NaN\n",
      "4   NaN  NaN  NaN  NaN   A4   B4   C4   D4  NaN  NaN  NaN  NaN\n",
      "5   NaN  NaN  NaN  NaN   A5   B5   C5   D5  NaN  NaN  NaN  NaN\n",
      "6   NaN  NaN  NaN  NaN   A6   B6   C6   D6  NaN  NaN  NaN  NaN\n",
      "7   NaN  NaN  NaN  NaN   A7   B7   C7   D7  NaN  NaN  NaN  NaN\n",
      "8   NaN  NaN  NaN  NaN  NaN  NaN  NaN  NaN   A8   B8   C8   D8\n",
      "9   NaN  NaN  NaN  NaN  NaN  NaN  NaN  NaN   A9   B9   C9   D9\n",
      "10  NaN  NaN  NaN  NaN  NaN  NaN  NaN  NaN  A10  B10  C10  D10\n",
      "11  NaN  NaN  NaN  NaN  NaN  NaN  NaN  NaN  A11  B11  C11  D11\n"
     ]
    }
   ],
   "source": [
    "#put all frames in a list\n",
    "frames=[df1,df2,df3]\n",
    "\n",
    "#just regular concat, by default axis 0\n",
    "result=pd.concat(frames)\n",
    "\n",
    "print(result)\n",
    "\n",
    "#format the output\n",
    "result=pd.concat(frames,axis=0)\n",
    "\n",
    "print(result)\n",
    "\n",
    "#format the output\n",
    "result=pd.concat(frames,axis=1)\n",
    "\n",
    "print(result)"
   ]
  },
  {
   "cell_type": "code",
   "execution_count": 163,
   "metadata": {},
   "outputs": [
    {
     "name": "stdout",
     "output_type": "stream",
     "text": [
      "    key   A   B   C   D\n",
      "0   dog  A0  B0  C3  D3\n",
      "1   cat  A1  B1  C2  D2\n",
      "2  fish  A2  B2  C1  D1\n",
      "3  bird  A3  B3  C0  D0\n"
     ]
    }
   ],
   "source": [
    "#Merging data frames: It is same as inner join in sql\n",
    "\n",
    "left = pd.DataFrame({'key': ['dog', 'cat', 'fish', 'bird'],\n",
    "                         'A': ['A0', 'A1', 'A2', 'A3'],\n",
    "                         'B': ['B0', 'B1', 'B2', 'B3']})\n",
    "right = pd.DataFrame({'key': ['bird', 'fish', 'cat', 'dog'],\n",
    "                          'C': ['C0', 'C1', 'C2', 'C3'],\n",
    "                          'D': ['D0', 'D1', 'D2', 'D3']})\n",
    "\n",
    "#join left and right dataframes on key column of left matches key columns of right\n",
    "\n",
    "result=pd.merge(left,right,on='key')\n",
    "print(result)"
   ]
  },
  {
   "cell_type": "code",
   "execution_count": 165,
   "metadata": {},
   "outputs": [
    {
     "name": "stdout",
     "output_type": "stream",
     "text": [
      "          city state   A   B   C   D\n",
      "0  Springfield    IL  A0  B0  C2  D2\n",
      "1      Chicago    IL  A3  B3  C3  D3\n"
     ]
    }
   ],
   "source": [
    "#Merging or joining on multiple columns\n",
    "\n",
    "left = pd.DataFrame({'city': ['Springfield', 'Springfield',\n",
    "                                  'Dover', 'Chicago'],\n",
    "                         'state': ['IL', 'OH', 'DE', 'IL'],\n",
    "                         'A': ['A0', 'A1', 'A2', 'A3'],\n",
    "                         'B': ['B0', 'B1', 'B2', 'B3']})\n",
    "\n",
    "right = pd.DataFrame({'city': ['Cleveland', 'Dover',\n",
    "                                   'Springfield', 'Chicago'],\n",
    "                          'state': ['OH', 'NH', 'IL', 'IL'],\n",
    "                          'C': ['C0', 'C1', 'C2', 'C3'],\n",
    "                          'D': ['D0', 'D1', 'D2', 'D3']})\n",
    "\n",
    "result_new= pd.merge(left,right,on=('city','state'))\n",
    "print(result_new)"
   ]
  },
  {
   "cell_type": "code",
   "execution_count": 172,
   "metadata": {},
   "outputs": [
    {
     "name": "stdout",
     "output_type": "stream",
     "text": [
      "     name day month     city state\n",
      "0    Suzy  12   Dec  Seattle    WA\n",
      "1     Wei  19   Nov      NaN   NaN\n",
      "2   Yulia   2   May      NaN   NaN\n",
      "3  Arvind  23   Jul   Denver    CO\n"
     ]
    }
   ],
   "source": [
    "#Assignment\n",
    "#Join the DataFrames below to return a new DataFrame of users with listed birthdays, along with their addresses if you have them.\n",
    "\n",
    "#use left join as they are asking use address only if tgey are present\n",
    "import pandas as pd\n",
    "dobs = pd.DataFrame({'name': ['Suzy', 'Wei','Yulia', 'Arvind'],\n",
    "                   'day': ['12', '19', '2', '23'],\n",
    "                   'month': ['Dec', 'Nov', 'May', 'Jul']})\n",
    "\n",
    "addresses = pd.DataFrame({'name': ['Marisol', 'Arvind','Stephan', 'Suzy'],\n",
    "                     'city': ['San Francisco', 'Denver', 'Austin', 'Seattle'],\n",
    "                     'state': ['CA', 'CO', 'TX', 'WA']})\n",
    "\n",
    "\n",
    "birthday_address = pd.merge(dobs,addresses,how='left',on='name')\n",
    "print(birthday_address)"
   ]
  },
  {
   "cell_type": "markdown",
   "metadata": {},
   "source": [
    "# Split, Apply, and Combine Data\n"
   ]
  },
  {
   "cell_type": "code",
   "execution_count": 184,
   "metadata": {},
   "outputs": [
    {
     "data": {
      "text/html": [
       "<div>\n",
       "<style scoped>\n",
       "    .dataframe tbody tr th:only-of-type {\n",
       "        vertical-align: middle;\n",
       "    }\n",
       "\n",
       "    .dataframe tbody tr th {\n",
       "        vertical-align: top;\n",
       "    }\n",
       "\n",
       "    .dataframe thead th {\n",
       "        text-align: right;\n",
       "    }\n",
       "</style>\n",
       "<table border=\"1\" class=\"dataframe\">\n",
       "  <thead>\n",
       "    <tr style=\"text-align: right;\">\n",
       "      <th></th>\n",
       "      <th>category</th>\n",
       "      <th>item</th>\n",
       "      <th>price</th>\n",
       "    </tr>\n",
       "  </thead>\n",
       "  <tbody>\n",
       "    <tr>\n",
       "      <th>0</th>\n",
       "      <td>produce</td>\n",
       "      <td>celery</td>\n",
       "      <td>0.99</td>\n",
       "    </tr>\n",
       "    <tr>\n",
       "      <th>1</th>\n",
       "      <td>produce</td>\n",
       "      <td>apple</td>\n",
       "      <td>0.49</td>\n",
       "    </tr>\n",
       "    <tr>\n",
       "      <th>2</th>\n",
       "      <td>meat</td>\n",
       "      <td>ham</td>\n",
       "      <td>1.89</td>\n",
       "    </tr>\n",
       "    <tr>\n",
       "      <th>3</th>\n",
       "      <td>meat</td>\n",
       "      <td>turkey</td>\n",
       "      <td>4.34</td>\n",
       "    </tr>\n",
       "    <tr>\n",
       "      <th>4</th>\n",
       "      <td>meat</td>\n",
       "      <td>lamb</td>\n",
       "      <td>9.50</td>\n",
       "    </tr>\n",
       "    <tr>\n",
       "      <th>5</th>\n",
       "      <td>cheese</td>\n",
       "      <td>cheddar</td>\n",
       "      <td>6.25</td>\n",
       "    </tr>\n",
       "    <tr>\n",
       "      <th>6</th>\n",
       "      <td>cheese</td>\n",
       "      <td>brie</td>\n",
       "      <td>8.00</td>\n",
       "    </tr>\n",
       "  </tbody>\n",
       "</table>\n",
       "</div>"
      ],
      "text/plain": [
       "  category     item  price\n",
       "0  produce   celery   0.99\n",
       "1  produce    apple   0.49\n",
       "2     meat      ham   1.89\n",
       "3     meat   turkey   4.34\n",
       "4     meat     lamb   9.50\n",
       "5   cheese  cheddar   6.25\n",
       "6   cheese     brie   8.00"
      ]
     },
     "execution_count": 184,
     "metadata": {},
     "output_type": "execute_result"
    }
   ],
   "source": [
    "#splitting data ---> group by clause in sql\n",
    "grocery = pd.DataFrame({'category':['produce', 'produce', 'meat',\n",
    "                                        'meat', 'meat', 'cheese', 'cheese'],\n",
    "                            'item':['celery', 'apple', 'ham', 'turkey',\n",
    "                                    'lamb', 'cheddar', 'brie'],\n",
    "                            'price':[.99, .49, 1.89, 4.34, 9.50, 6.25, 8.0]})\n",
    "\n",
    "result=grocery.groupby('category')\n",
    "\n",
    "grocery"
   ]
  },
  {
   "cell_type": "code",
   "execution_count": 181,
   "metadata": {},
   "outputs": [
    {
     "name": "stdout",
     "output_type": "stream",
     "text": [
      "          item  price\n",
      "category             \n",
      "cheese       2    2.0\n",
      "meat         3    3.0\n",
      "produce      2    2.0\n",
      "          price\n",
      "category       \n",
      "cheese    14.25\n",
      "meat      15.73\n",
      "produce    1.48\n"
     ]
    }
   ],
   "source": [
    "import numpy as np\n",
    "\n",
    "grouped =grocery.groupby('category')\n",
    "\n",
    "#group by on categoty then perform aggregate calculation on columns\n",
    "print(grouped.aggregate(np.count_nonzero))\n",
    "\n",
    "print(grouped.aggregate(np.sum))\n"
   ]
  },
  {
   "cell_type": "code",
   "execution_count": 183,
   "metadata": {},
   "outputs": [
    {
     "data": {
      "text/html": [
       "<div>\n",
       "<style scoped>\n",
       "    .dataframe tbody tr th:only-of-type {\n",
       "        vertical-align: middle;\n",
       "    }\n",
       "\n",
       "    .dataframe tbody tr th {\n",
       "        vertical-align: top;\n",
       "    }\n",
       "\n",
       "    .dataframe thead th {\n",
       "        text-align: right;\n",
       "    }\n",
       "</style>\n",
       "<table border=\"1\" class=\"dataframe\">\n",
       "  <thead>\n",
       "    <tr style=\"text-align: right;\">\n",
       "      <th></th>\n",
       "      <th>price</th>\n",
       "    </tr>\n",
       "  </thead>\n",
       "  <tbody>\n",
       "    <tr>\n",
       "      <th>0</th>\n",
       "      <td>0.250000</td>\n",
       "    </tr>\n",
       "    <tr>\n",
       "      <th>1</th>\n",
       "      <td>-0.250000</td>\n",
       "    </tr>\n",
       "    <tr>\n",
       "      <th>2</th>\n",
       "      <td>-3.353333</td>\n",
       "    </tr>\n",
       "    <tr>\n",
       "      <th>3</th>\n",
       "      <td>-0.903333</td>\n",
       "    </tr>\n",
       "    <tr>\n",
       "      <th>4</th>\n",
       "      <td>4.256667</td>\n",
       "    </tr>\n",
       "    <tr>\n",
       "      <th>5</th>\n",
       "      <td>-0.875000</td>\n",
       "    </tr>\n",
       "    <tr>\n",
       "      <th>6</th>\n",
       "      <td>0.875000</td>\n",
       "    </tr>\n",
       "  </tbody>\n",
       "</table>\n",
       "</div>"
      ],
      "text/plain": [
       "      price\n",
       "0  0.250000\n",
       "1 -0.250000\n",
       "2 -3.353333\n",
       "3 -0.903333\n",
       "4  4.256667\n",
       "5 -0.875000\n",
       "6  0.875000"
      ]
     },
     "execution_count": 183,
     "metadata": {},
     "output_type": "execute_result"
    }
   ],
   "source": [
    "#transform function. just transform the value.  there is no group by here. It just modifies all values\n",
    "\n",
    "grouped.transform(lambda x: x-x.mean())"
   ]
  },
  {
   "cell_type": "code",
   "execution_count": 192,
   "metadata": {},
   "outputs": [
    {
     "data": {
      "text/html": [
       "<div>\n",
       "<style scoped>\n",
       "    .dataframe tbody tr th:only-of-type {\n",
       "        vertical-align: middle;\n",
       "    }\n",
       "\n",
       "    .dataframe tbody tr th {\n",
       "        vertical-align: top;\n",
       "    }\n",
       "\n",
       "    .dataframe thead th {\n",
       "        text-align: right;\n",
       "    }\n",
       "</style>\n",
       "<table border=\"1\" class=\"dataframe\">\n",
       "  <thead>\n",
       "    <tr style=\"text-align: right;\">\n",
       "      <th></th>\n",
       "      <th>item</th>\n",
       "      <th>price</th>\n",
       "    </tr>\n",
       "  </thead>\n",
       "  <tbody>\n",
       "    <tr>\n",
       "      <th>2</th>\n",
       "      <td>ham</td>\n",
       "      <td>1.89</td>\n",
       "    </tr>\n",
       "    <tr>\n",
       "      <th>3</th>\n",
       "      <td>turkey</td>\n",
       "      <td>4.34</td>\n",
       "    </tr>\n",
       "    <tr>\n",
       "      <th>4</th>\n",
       "      <td>lamb</td>\n",
       "      <td>9.50</td>\n",
       "    </tr>\n",
       "  </tbody>\n",
       "</table>\n",
       "</div>"
      ],
      "text/plain": [
       "     item  price\n",
       "2     ham   1.89\n",
       "3  turkey   4.34\n",
       "4    lamb   9.50"
      ]
     },
     "execution_count": 192,
     "metadata": {},
     "output_type": "execute_result"
    }
   ],
   "source": [
    "#filter \n",
    "\n",
    "grouped.filter(lambda x: len(x)>2)"
   ]
  }
 ],
 "metadata": {
  "kernelspec": {
   "display_name": "Python 3",
   "language": "python",
   "name": "python3"
  },
  "language_info": {
   "codemirror_mode": {
    "name": "ipython",
    "version": 3
   },
   "file_extension": ".py",
   "mimetype": "text/x-python",
   "name": "python",
   "nbconvert_exporter": "python",
   "pygments_lexer": "ipython3",
   "version": "3.7.1"
  }
 },
 "nbformat": 4,
 "nbformat_minor": 2
}
