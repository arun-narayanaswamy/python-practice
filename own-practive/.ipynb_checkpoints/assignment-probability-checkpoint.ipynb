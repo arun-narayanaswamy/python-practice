{
 "cells": [
  {
   "cell_type": "code",
   "execution_count": 23,
   "metadata": {},
   "outputs": [],
   "source": [
    "import numpy as np\n",
    "import pandas as pd\n",
    "\n",
    "def LawOfTotalProbability(conditional_probabilities, marginal_probabilities):\n",
    "    '''\n",
    "    Calculate the marginal probability of Pr(E_1) using the law of total probability\n",
    "    when you are given numpy arrays of the conditional and marginal probabilities\n",
    "\n",
    "    Return \"Two equal length numpy arrays only\" if the arrays are not equal length\n",
    "    Return \"The marginal probabilities do not sum to 1\" if the marginal probabilities\n",
    "    do not sum to one.\n",
    "    \n",
    "    Parameters\n",
    "    ----------\n",
    "    conditional_probabilities : {numpy array} \n",
    "        [Pr(E_1|F_1), Pr(E_1|F_2), ..., Pr(E_1|F_m)]\n",
    "    marginal_probabilities : {numpy array} [Pr(F_1), Pr(F_2), ..., Pr(F_m)]\n",
    "\n",
    "    Returns\n",
    "    -------\n",
    "    {float} probability of E_1 or {str} invalid input message\n",
    "    \n",
    "    Example:\n",
    "    >>> LawOfTotalProbability(np.array([0.4, 0.03]), np.array([0.02, 0.98]))\n",
    "    0.0374\n",
    "    '''\n",
    "    if len(conditional_probabilities)!=len(marginal_probabilities):\n",
    "        return \"Two equal length numpy arrays only\"\n",
    "    if np.sum(marginal_probabilities)!=1.0:\n",
    "        return \"The marginal probabilities do not sum to 1\"\n",
    "    return np.sum(np.multiply(conditional_probabilities, marginal_probabilities))"
   ]
  },
  {
   "cell_type": "code",
   "execution_count": 24,
   "metadata": {},
   "outputs": [
    {
     "data": {
      "text/plain": [
       "0.20000000000000004"
      ]
     },
     "execution_count": 24,
     "metadata": {},
     "output_type": "execute_result"
    }
   ],
   "source": [
    "LawOfTotalProbability(np.array([0.2,0.2,0.2,0.2,0.2]),np.array([0.2,0.2,0.2,0.2,0.2]))"
   ]
  },
  {
   "cell_type": "code",
   "execution_count": 19,
   "metadata": {},
   "outputs": [],
   "source": [
    "result1=np.array([0.2,0.2,0.2,0.2,0.2])\n",
    "result2=np.array([0.2,0.2,0.2,0.2,0.2])"
   ]
  },
  {
   "cell_type": "code",
   "execution_count": 20,
   "metadata": {},
   "outputs": [
    {
     "data": {
      "text/plain": [
       "array([0.04, 0.04, 0.04, 0.04, 0.04])"
      ]
     },
     "execution_count": 20,
     "metadata": {},
     "output_type": "execute_result"
    }
   ],
   "source": [
    "np.multiply(result1,result2)"
   ]
  },
  {
   "cell_type": "code",
   "execution_count": 25,
   "metadata": {},
   "outputs": [
    {
     "data": {
      "text/plain": [
       "0.0374"
      ]
     },
     "execution_count": 25,
     "metadata": {},
     "output_type": "execute_result"
    }
   ],
   "source": [
    "LawOfTotalProbability(np.array([0.4, 0.03]), np.array([0.02, 0.98]))"
   ]
  },
  {
   "cell_type": "code",
   "execution_count": null,
   "metadata": {},
   "outputs": [],
   "source": []
  }
 ],
 "metadata": {
  "kernelspec": {
   "display_name": "Python 3",
   "language": "python",
   "name": "python3"
  },
  "language_info": {
   "codemirror_mode": {
    "name": "ipython",
    "version": 3
   },
   "file_extension": ".py",
   "mimetype": "text/x-python",
   "name": "python",
   "nbconvert_exporter": "python",
   "pygments_lexer": "ipython3",
   "version": "3.7.1"
  }
 },
 "nbformat": 4,
 "nbformat_minor": 2
}
