{
 "cells": [
  {
   "cell_type": "code",
   "execution_count": 1,
   "metadata": {},
   "outputs": [
    {
     "data": {
      "text/html": [
       "<div>\n",
       "<style scoped>\n",
       "    .dataframe tbody tr th:only-of-type {\n",
       "        vertical-align: middle;\n",
       "    }\n",
       "\n",
       "    .dataframe tbody tr th {\n",
       "        vertical-align: top;\n",
       "    }\n",
       "\n",
       "    .dataframe thead th {\n",
       "        text-align: right;\n",
       "    }\n",
       "</style>\n",
       "<table border=\"1\" class=\"dataframe\">\n",
       "  <thead>\n",
       "    <tr style=\"text-align: right;\">\n",
       "      <th></th>\n",
       "      <th>item</th>\n",
       "      <th>price</th>\n",
       "    </tr>\n",
       "    <tr>\n",
       "      <th>category</th>\n",
       "      <th></th>\n",
       "      <th></th>\n",
       "    </tr>\n",
       "  </thead>\n",
       "  <tbody>\n",
       "    <tr>\n",
       "      <th>cheese</th>\n",
       "      <td>cheddar</td>\n",
       "      <td>8.00</td>\n",
       "    </tr>\n",
       "    <tr>\n",
       "      <th>meat</th>\n",
       "      <td>turkey</td>\n",
       "      <td>9.50</td>\n",
       "    </tr>\n",
       "    <tr>\n",
       "      <th>produce</th>\n",
       "      <td>celery</td>\n",
       "      <td>0.99</td>\n",
       "    </tr>\n",
       "  </tbody>\n",
       "</table>\n",
       "</div>"
      ],
      "text/plain": [
       "             item  price\n",
       "category                \n",
       "cheese    cheddar   8.00\n",
       "meat       turkey   9.50\n",
       "produce    celery   0.99"
      ]
     },
     "execution_count": 1,
     "metadata": {},
     "output_type": "execute_result"
    }
   ],
   "source": [
    "#Assignment\n",
    "#Perform the following operations using split-apply-combine.\n",
    "\n",
    "#Remove all items in categories where the mean price in that category is less than $3.00.\n",
    "#Find the maximum values in each category for all features. (What does Pandas take to be the maximum value of the 'item' column?)\n",
    "#If the maximum price in a category is more than $3.00, reduce all prices in that category by 10%. Return a Series of the new price column.\n",
    "\n",
    "import pandas as pd\n",
    "import numpy as np\n",
    "\n",
    "grocery = pd.DataFrame({'category':['produce', 'produce', 'meat',\n",
    "                                    'meat', 'meat', 'cheese', 'cheese'],\n",
    "                        'item':['celery', 'apple', 'ham', 'turkey',  'lamb',\n",
    "                                'cheddar', 'brie'],\n",
    "                        'price':[.99, .49, 1.89, 4.34, 9.50, 6.25, 8.0]})\n",
    "\n",
    "group_grocery=grocery.groupby('category')\n",
    "one_mean = group_grocery.filter(lambda x: x.mean()>=3.00)\n",
    "two_mean= group_grocery.aggregate(np.max)\n",
    "temp=group_grocery.filter(lambda x: x.mean()>=0)\n",
    "#three_mean=group_grocery.apply(lambda x: (x - 0.1*x) if np.max > 3.00 else x)\n",
    "#one_mean= pd.merge(grocery,)\n",
    "#print(one_mean)\n",
    "#three_mean\n",
    "#two_mean"
   ]
  },
  {
   "cell_type": "code",
   "execution_count": 2,
   "metadata": {},
   "outputs": [],
   "source": [
    "#Select all information from produce for pear and jackfruit\n",
    "#Create a clearance_price column in produce which includes prices reduced from the original prices by 50%. Then set two_clearance equal the entire row at index 3.\n",
    "\n",
    "import pandas as pd\n",
    "\n",
    "prices = pd.Series([1,1,2,3,5],\n",
    "              index=['apple', 'pear', 'banana', 'mango', 'jackfruit'])\n",
    "\n",
    "inventory = pd.Series([10, 50, 41, 22],\n",
    "              index=['pear', 'banana', 'mango', 'apple'])\n",
    "\n",
    "discount_prices = prices.apply(lambda x: .9*x if x>3 else x)\n",
    "\n",
    "produce = pd.DataFrame({'price':prices,\n",
    "                        'discount_price':discount_prices,\n",
    "                        'inventory':inventory})\n",
    "\n",
    "one_select = produce.loc[['pear','jackfruit'],:]\n",
    "\n",
    "produce['clearance_price']= produce.loc[:,'price']*0.5\n",
    "\n",
    "#print(produce)\n",
    "\n",
    "two_clearance = produce.iloc[[2],:]\n"
   ]
  }
 ],
 "metadata": {
  "kernelspec": {
   "display_name": "Python 3",
   "language": "python",
   "name": "python3"
  },
  "language_info": {
   "codemirror_mode": {
    "name": "ipython",
    "version": 3
   },
   "file_extension": ".py",
   "mimetype": "text/x-python",
   "name": "python",
   "nbconvert_exporter": "python",
   "pygments_lexer": "ipython3",
   "version": "3.7.1"
  }
 },
 "nbformat": 4,
 "nbformat_minor": 2
}
